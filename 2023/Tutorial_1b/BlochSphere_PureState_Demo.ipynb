{
 "cells": [
  {
   "cell_type": "code",
   "execution_count": 1,
   "id": "482c1c4e",
   "metadata": {},
   "outputs": [],
   "source": [
    "import numpy as np\n",
    "from matplotlib import cm, pyplot as plt\n",
    "from IPython.display import display\n",
    "from ipywidgets import interactive, interactive_output, HBox, VBox, Layout, FloatSlider, Label, HTMLMath, Layout, Text\n",
    "\n",
    "from qiskit.quantum_info import Statevector\n",
    "from qiskit.visualization.bloch import Bloch\n",
    "from qiskit.visualization.utils import _bloch_multivector_data\n",
    "from time import sleep\n",
    "from utils import print_statevector"
   ]
  },
  {
   "cell_type": "code",
   "execution_count": 2,
   "id": "6167e88c",
   "metadata": {},
   "outputs": [],
   "source": [
    "def state_vector(θ,φ):\n",
    "    alpha = np.cos(θ/2)\n",
    "    beta = np.exp(1j*φ)*np.sin(θ/2)\n",
    "    sv_lac = print_statevector(Statevector([alpha,beta]),display_output=False,pretext='|\\\\psi \\\\rangle = ')\n",
    "    sv_html = HTMLMath(value = r'\\(\\color{black} {' + str(sv_lac[3:len(sv_lac)-2])  + '}\\)')\n",
    "    display(sv_html)"
   ]
  },
  {
   "cell_type": "code",
   "execution_count": 3,
   "id": "5c25c94e",
   "metadata": {},
   "outputs": [],
   "source": [
    "def plot_bloch(θ,φ):\n",
    "    \n",
    "    alpha = np.cos(θ/2)\n",
    "    beta = np.exp(1j*φ)*np.sin(θ/2)\n",
    "    sv = Statevector([alpha,beta])\n",
    "    bloch_data = _bloch_multivector_data(sv)\n",
    "    \n",
    "    _bloch = Bloch()\n",
    "\n",
    "    _bloch.add_vectors(bloch_data)\n",
    "    _bloch.render()\n",
    "    _bloch.fig"
   ]
  },
  {
   "cell_type": "code",
   "execution_count": 6,
   "id": "44c049e5",
   "metadata": {},
   "outputs": [],
   "source": [
    "θ_slide = FloatSlider(description=\"θ:\", value=0.0,min=0.0,max=np.pi,step=np.pi/10)\n",
    "φ_slide = FloatSlider(description=\"φ:\", value=0.0,min=0.0,max=2*np.pi,step=np.pi/10)\n",
    "\n",
    "figure_out = interactive_output(plot_bloch,{'θ': θ_slide, 'φ': φ_slide})\n",
    "label_out = interactive_output(state_vector,{'θ': θ_slide, 'φ': φ_slide})\n",
    "\n",
    "controls = VBox([θ_slide, φ_slide])\n",
    "ctrl_n_label = VBox([controls,label_out])\n",
    "eq_label = HTMLMath(value = r'\\(\\color{black} {| \\psi \\rangle =  \\left[ \\cos \\left( \\frac{\\theta}{2} \\right) | 0 \\rangle + \\sin \\left( \\frac{\\theta}{2} \\right) e^{\\imath \\varphi} | 1 \\rangle \\right]}\\)', fontsize=10)\n",
    "\n",
    "bloch_sphere = HBox([VBox([eq_label,figure_out],layout=Layout(align_items='center')),\n",
    "                     ctrl_n_label])"
   ]
  },
  {
   "cell_type": "code",
   "execution_count": 7,
   "id": "52fe1bf5",
   "metadata": {},
   "outputs": [
    {
     "data": {
      "application/vnd.jupyter.widget-view+json": {
       "model_id": "2e8289e8ce60448b95affaa0f8d856d9",
       "version_major": 2,
       "version_minor": 0
      },
      "text/plain": [
       "HBox(children=(VBox(children=(HTMLMath(value='\\\\(\\\\color{black} {| \\\\psi \\\\rangle =  \\\\left[ \\\\cos \\\\left( \\\\f…"
      ]
     },
     "metadata": {},
     "output_type": "display_data"
    }
   ],
   "source": [
    "bloch_sphere"
   ]
  },
  {
   "cell_type": "code",
   "execution_count": null,
   "id": "1525339c",
   "metadata": {},
   "outputs": [],
   "source": []
  }
 ],
 "metadata": {
  "kernelspec": {
   "display_name": "Python 3 (ipykernel)",
   "language": "python",
   "name": "python3"
  },
  "language_info": {
   "codemirror_mode": {
    "name": "ipython",
    "version": 3
   },
   "file_extension": ".py",
   "mimetype": "text/x-python",
   "name": "python",
   "nbconvert_exporter": "python",
   "pygments_lexer": "ipython3",
   "version": "3.8.13"
  }
 },
 "nbformat": 4,
 "nbformat_minor": 5
}
