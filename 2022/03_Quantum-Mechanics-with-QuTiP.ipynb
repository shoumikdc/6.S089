{
 "cells": [
  {
   "cell_type": "code",
   "execution_count": 2,
   "metadata": {},
   "outputs": [],
   "source": [
    "from qutip import *\n",
    "import numpy as np\n",
    "import matplotlib.pyplot as plt"
   ]
  },
  {
   "cell_type": "markdown",
   "metadata": {},
   "source": [
    "# Introduction to QuTiP (Quantum Toolkit in Python)\n",
    "\n",
    "$\\textbf{Author: Bharath Kannan}$\n",
    "\n",
    "We will begin by introducing the basics of the QuTiP python package. From the QuTiP documentation:\n",
    "\n",
    "\"QuTiP is a python package for calculations and numerical simulations of quantum systems.\n",
    "\n",
    "It includes facilities for representing and doing calculations with quantum objects such state vectors (wavefunctions), as bras/kets/density matrices, quantum operators of single and composite systems, and superoperators (useful for defining master equations).\n",
    "\n",
    "It also includes solvers for a time-evolution of quantum systems, according to: Schrodinger equation, von Neuman equation, master equations, Floquet formalism, Monte-Carlo quantum trajectors, experimental implementations of the stochastic Schrodinger/master equations.\"\n",
    "\n",
    "This tutorial is by no means a comprehensive introduction to QuTiP, and we will only use QuTiP to solve one of the equations that are listed above: the Schrodinger equation. Nonetheless, the purpose of this tutorial is to introduce the basics of the package so that you can continue to explore and learn about quantum mechanics on your own."
   ]
  },
  {
   "cell_type": "markdown",
   "metadata": {},
   "source": [
    "## Quantum object class: qobj\n",
    "The central structure of the QuTiP package is the Qobj class. This class is used to represent all quantum objects, such as quantum states $|\\psi\\rangle$ and operators $\\hat{O}$. At it's core, the Qobj is simply a container for the vector and matrix representations for these objects, with a few additional convenience attributes.\n",
    "\n",
    "A Qobj can be created using the constructor Qobj()"
   ]
  },
  {
   "cell_type": "code",
   "execution_count": 3,
   "metadata": {},
   "outputs": [
    {
     "data": {
      "text/latex": [
       "Quantum object: dims = [[2], [1]], shape = (2, 1), type = ket\\begin{equation*}\\left(\\begin{array}{*{11}c}1.0\\\\0.0\\\\\\end{array}\\right)\\end{equation*}"
      ],
      "text/plain": [
       "Quantum object: dims = [[2], [1]], shape = (2, 1), type = ket\n",
       "Qobj data =\n",
       "[[1.]\n",
       " [0.]]"
      ]
     },
     "execution_count": 3,
     "metadata": {},
     "output_type": "execute_result"
    }
   ],
   "source": [
    "q = Qobj([[1], [0]]) # Use the Qobj constructor to define a quantum state that is represented by the vector (1, 0)\n",
    "q"
   ]
  },
  {
   "cell_type": "markdown",
   "metadata": {},
   "source": [
    "As stated before, the Qobj() contains the vector representation of a state, as well as some other information such as the dimensions and shape of the object (2x1 vector in this case), and whether the type of the object is a ket $|\\psi\\rangle$, a bra $\\langle\\psi|$, or an operator $\\hat{O}$."
   ]
  },
  {
   "cell_type": "markdown",
   "metadata": {},
   "source": [
    "## Quantum State Vectors\n",
    "\n",
    "\n",
    "The first task is to learn how to define a quantum state $|\\psi\\rangle$. We could just input vectors into the Qobj() constructor, as done above, but there are other functions that make this easier to do.\n",
    "\n",
    "In our case, we would like to define quantum states that describe the an electron spin as a two-level-system (TLS). "
   ]
  },
  {
   "cell_type": "code",
   "execution_count": 4,
   "metadata": {},
   "outputs": [],
   "source": [
    "N = 2 #This defines how many levels we want our quantum states to have. In our case, this is 2."
   ]
  },
  {
   "cell_type": "markdown",
   "metadata": {},
   "source": [
    "Let's start by creating the state $|\\psi\\rangle = |\\uparrow\\rangle$. For this, we will need to use the \"basis(N,i)\" function in qutip."
   ]
  },
  {
   "cell_type": "code",
   "execution_count": 5,
   "metadata": {},
   "outputs": [],
   "source": [
    "psi_up = basis(N,0)"
   ]
  },
  {
   "cell_type": "markdown",
   "metadata": {},
   "source": [
    "The second arguement determines whether $|\\psi\\rangle$ is $|\\uparrow\\rangle$ or $|\\downarrow\\rangle$. In qutip's convention, $|i=0\\rangle$ will give us $|\\uparrow\\rangle$ and $|i=1\\rangle$ will give us $|\\downarrow\\rangle$. We can confirm this by printing what vector $|\\psi\\rangle$ represents. "
   ]
  },
  {
   "cell_type": "code",
   "execution_count": 6,
   "metadata": {},
   "outputs": [
    {
     "data": {
      "text/latex": [
       "Quantum object: dims = [[2], [1]], shape = (2, 1), type = ket\\begin{equation*}\\left(\\begin{array}{*{11}c}1.0\\\\0.0\\\\\\end{array}\\right)\\end{equation*}"
      ],
      "text/plain": [
       "Quantum object: dims = [[2], [1]], shape = (2, 1), type = ket\n",
       "Qobj data =\n",
       "[[1.]\n",
       " [0.]]"
      ]
     },
     "execution_count": 6,
     "metadata": {},
     "output_type": "execute_result"
    }
   ],
   "source": [
    "psi_up"
   ]
  },
  {
   "cell_type": "markdown",
   "metadata": {},
   "source": [
    "Thus, we have initialzied $|\\psi\\rangle$ into the state we wanted. Similarly, we can create the state $|\\downarrow\\rangle$. \n",
    "\n",
    "$\\textbf{Exercise:}$ Using the above example, define the variable 'psi_down' using the basis() function:"
   ]
  },
  {
   "cell_type": "code",
   "execution_count": 7,
   "metadata": {},
   "outputs": [
    {
     "ename": "SyntaxError",
     "evalue": "invalid syntax (<ipython-input-7-a862a7a3667c>, line 1)",
     "output_type": "error",
     "traceback": [
      "\u001b[0;36m  File \u001b[0;32m\"<ipython-input-7-a862a7a3667c>\"\u001b[0;36m, line \u001b[0;32m1\u001b[0m\n\u001b[0;31m    psi_down = # fill in\u001b[0m\n\u001b[0m               ^\u001b[0m\n\u001b[0;31mSyntaxError\u001b[0m\u001b[0;31m:\u001b[0m invalid syntax\n"
     ]
    }
   ],
   "source": [
    "psi_down = # fill in\n",
    "psi_down"
   ]
  },
  {
   "cell_type": "markdown",
   "metadata": {},
   "source": [
    "Sometimes, it easier to figure out what a state is by drawing it on the Bloch Sphere. QuTiP has some handy functions that can draw an input state:"
   ]
  },
  {
   "cell_type": "code",
   "execution_count": null,
   "metadata": {},
   "outputs": [],
   "source": [
    "b = Bloch()\n",
    "b.add_states(psi_up)\n",
    "b.show()"
   ]
  },
  {
   "cell_type": "markdown",
   "metadata": {},
   "source": [
    "As desired, we get the state which points up on the Bloch Sphere. We can do the same for $|\\downarrow\\rangle$.\n",
    "\n",
    "$\\textbf{Exercise:}$ Use the example above to and plot 'psi_down':"
   ]
  },
  {
   "cell_type": "code",
   "execution_count": null,
   "metadata": {},
   "outputs": [],
   "source": [
    "# fill in\n",
    "\n",
    "\n"
   ]
  },
  {
   "cell_type": "markdown",
   "metadata": {},
   "source": [
    "In quantum mechanics, we typically deal with superpositions of states. Let's take a look at what an equal superposition of the $|\\uparrow\\rangle$ and $|\\downarrow\\rangle$ states looks like on the Bloch sphere."
   ]
  },
  {
   "cell_type": "code",
   "execution_count": null,
   "metadata": {},
   "outputs": [],
   "source": [
    "psi_x_positive = (psi_up + psi_down)/np.sqrt(2) # the sqrt(2) here is to make sure we normalize the state. \n",
    "b = Bloch()\n",
    "b.add_states(psi_x_positive)\n",
    "b.show()"
   ]
  },
  {
   "cell_type": "markdown",
   "metadata": {},
   "source": [
    "We can see that this state now points to the positive side of the x-axis (we will call this state $|\\rightarrow\\rangle$). This is the same as what we saw during lecture. \n",
    "\n",
    "We can also look at the vector representation of this state:"
   ]
  },
  {
   "cell_type": "code",
   "execution_count": null,
   "metadata": {},
   "outputs": [],
   "source": [
    "psi_x_positive"
   ]
  },
  {
   "cell_type": "markdown",
   "metadata": {},
   "source": [
    "Which is exactly we would expect when adding the two vectors ([1,0] + [0,1])/$\\sqrt{2}$\n",
    "\n",
    "$\\textbf{Exercise:}$ Try to find the appropriate superpositons of $|\\uparrow\\rangle$ and $|\\downarrow\\rangle$ to get the state vector to point towards the negative x-axis, and the positive and negative sides of the y-axis. Use the plotting functions to plot each vector. (Hint: the coefficients in front of $|\\downarrow\\rangle$ might need to be imaginary, and don't forget about normalziation)"
   ]
  },
  {
   "cell_type": "code",
   "execution_count": null,
   "metadata": {},
   "outputs": [],
   "source": [
    "psi_x_negative = # fill in\n",
    "b = Bloch()\n",
    "b.add_states(psi_x_negative)\n",
    "b.show()"
   ]
  },
  {
   "cell_type": "code",
   "execution_count": null,
   "metadata": {},
   "outputs": [],
   "source": [
    "psi_y_positive = # fill in\n",
    "b = Bloch()\n",
    "b.add_states(psi_y_positive)\n",
    "b.show()"
   ]
  },
  {
   "cell_type": "code",
   "execution_count": null,
   "metadata": {},
   "outputs": [],
   "source": [
    "psi_y_negative = # fill in\n",
    "b = Bloch()\n",
    "b.add_states(psi_y_negative)\n",
    "b.show()"
   ]
  },
  {
   "cell_type": "markdown",
   "metadata": {},
   "source": [
    "We can define the quantum state of a TLS to point anywhere along the Bloch sphere by defining two angles: $\\theta$ and $\\phi$. The state is defined as $| \\psi( \\theta, \\phi)\\rangle$ = $cos ( \\theta/2) | \\uparrow \\rangle$ + $e^{i \\phi} sin ( \\theta/2) |\\downarrow\\rangle$. Here, $\\theta \\in [0,\\pi]$ is the azimuthal angle from the z-axis and $\\phi\\in[0,2\\pi]$ is the polar angle in the xy-plane (see https://en.wikipedia.org/wiki/Bloch_sphere for an example image).\n",
    "\n",
    "$\\textbf{Exercise:}$ Compete the function below that generates the state defined by $\\theta$ and $\\phi$"
   ]
  },
  {
   "cell_type": "code",
   "execution_count": null,
   "metadata": {},
   "outputs": [],
   "source": [
    "def psi(theta,phi):\n",
    "    # fill in\n",
    "    return # fill in"
   ]
  },
  {
   "cell_type": "markdown",
   "metadata": {},
   "source": [
    "$\\textbf{Exercise:}$ Find the $\\theta$ and $\\phi$ that point the state vector along the 6 poles of the Bloch sphere ($\\pm z, \\pm x, \\pm y$). Plot the results on the Bloch Sphere for each case."
   ]
  },
  {
   "cell_type": "markdown",
   "metadata": {},
   "source": [
    "$+z$:"
   ]
  },
  {
   "cell_type": "code",
   "execution_count": null,
   "metadata": {},
   "outputs": [],
   "source": [
    "psi_z_positive = # fill in using function psi(theta,phi)\n",
    "b = Bloch()\n",
    "b.add_states(psi_z_positive)\n",
    "b.show()"
   ]
  },
  {
   "cell_type": "markdown",
   "metadata": {},
   "source": [
    "$-z$:"
   ]
  },
  {
   "cell_type": "code",
   "execution_count": null,
   "metadata": {},
   "outputs": [],
   "source": [
    "psi_z_negative = # fill in using function psi(theta,phi)\n",
    "b = Bloch()\n",
    "b.add_states(psi_z_negative)\n",
    "b.show()"
   ]
  },
  {
   "cell_type": "markdown",
   "metadata": {},
   "source": [
    "$+x$:"
   ]
  },
  {
   "cell_type": "code",
   "execution_count": null,
   "metadata": {},
   "outputs": [],
   "source": [
    "psi_x_positive = # fill in using function psi(theta,phi)\n",
    "b = Bloch()\n",
    "b.add_states(psi_x_positive)\n",
    "b.show()"
   ]
  },
  {
   "cell_type": "markdown",
   "metadata": {},
   "source": [
    "$-x$:"
   ]
  },
  {
   "cell_type": "code",
   "execution_count": null,
   "metadata": {},
   "outputs": [],
   "source": [
    "psi_x_negative = # fill in using function psi(theta,phi)\n",
    "b = Bloch()\n",
    "b.add_states(psi_x_negative)\n",
    "b.show()"
   ]
  },
  {
   "cell_type": "markdown",
   "metadata": {},
   "source": [
    "$+y$:"
   ]
  },
  {
   "cell_type": "code",
   "execution_count": null,
   "metadata": {},
   "outputs": [],
   "source": [
    "psi_y_positive = # fill in using function psi(theta,phi)\n",
    "b = Bloch()\n",
    "b.add_states(psi_y_positive)\n",
    "b.show()"
   ]
  },
  {
   "cell_type": "markdown",
   "metadata": {},
   "source": [
    "$-y$:"
   ]
  },
  {
   "cell_type": "code",
   "execution_count": null,
   "metadata": {},
   "outputs": [],
   "source": [
    "psi_y_negative = # fill in using function psi(theta,phi)\n",
    "b = Bloch()\n",
    "b.add_states(psi_y_negative)\n",
    "b.show()"
   ]
  },
  {
   "cell_type": "markdown",
   "metadata": {},
   "source": [
    "## Quantum Operators (Matrices)\n",
    "\n",
    "Now that we have learned how to represent arbitrary states on the Bloch Sphere, we can now learn how quantum operators, represented as matrices, are defined in QuTiP.\n",
    "\n",
    "Operators in QuTiP are also instances of the same Qobj() class used to define states $|\\psi\\rangle$. However, the dimensions of the data in the QobJ will now be an $N \\times N$ square matrix. For example, we could create the identity operator as follows:"
   ]
  },
  {
   "cell_type": "code",
   "execution_count": null,
   "metadata": {},
   "outputs": [],
   "source": [
    "I = Qobj([[1,0],[0,1]])\n",
    "I"
   ]
  },
  {
   "cell_type": "markdown",
   "metadata": {},
   "source": [
    "Defining operators on an element-wise basis can get a bit annoying and repetitive. Luckily for us, QuTiP has many built-in functions to generate the most commonly used operators. For example, we can use the qeye() function to generate the same identity operator:"
   ]
  },
  {
   "cell_type": "code",
   "execution_count": null,
   "metadata": {},
   "outputs": [],
   "source": [
    "I = qeye(N) #qeye() takes in an argument defining the dimension of the identity operator. In our case, we want N = 2.\n",
    "I"
   ]
  },
  {
   "cell_type": "markdown",
   "metadata": {},
   "source": [
    "When trying to perform calculations of a TLS, the pauli operators $\\hat{\\sigma}_x, \\hat{\\sigma}_y$, and $\\hat{\\sigma}_z$ are very useful (as we discussed during the lecture). QuTiP has built-in functions for these too: "
   ]
  },
  {
   "cell_type": "markdown",
   "metadata": {},
   "source": [
    "$\\hat{\\sigma}_x$"
   ]
  },
  {
   "cell_type": "code",
   "execution_count": null,
   "metadata": {},
   "outputs": [],
   "source": [
    "sigmax()"
   ]
  },
  {
   "cell_type": "markdown",
   "metadata": {},
   "source": [
    "$\\hat{\\sigma}_y$"
   ]
  },
  {
   "cell_type": "code",
   "execution_count": null,
   "metadata": {},
   "outputs": [],
   "source": [
    "sigmay()"
   ]
  },
  {
   "cell_type": "markdown",
   "metadata": {},
   "source": [
    "$\\hat{\\sigma}_z$"
   ]
  },
  {
   "cell_type": "code",
   "execution_count": null,
   "metadata": {},
   "outputs": [],
   "source": [
    "sigmaz()"
   ]
  },
  {
   "cell_type": "markdown",
   "metadata": {},
   "source": [
    "With these operators in hand, we can now try to perform some simulations of how quantum states evolve."
   ]
  },
  {
   "cell_type": "markdown",
   "metadata": {},
   "source": [
    "## Quantum State Evolution\n",
    "\n",
    "Recall from lecture the Shrodinger Equation that determined how a quantum state $|\\psi(t)\\rangle$ evolves given a Hamitonian operator $\\hat{H}$:\n",
    "\n",
    "$i\\hbar$ $\\frac{d|\\psi(t)\\rangle}{dt}$ = $\\hat{H}|\\psi(t)\\rangle$\n",
    "\n",
    "While this equation may look intimidating at first, we should remember that this equation is simply $N$ first-order differential equations that are written in a rather compact notation. However, for this course, we do not really need to think too deeply about it: the solution to this equation (assuming the Hamiltonian is time-independent) is simply given by \n",
    "\n",
    "$|\\psi(t)\\rangle = e^{-i \\hat{H} t} |\\psi(t = 0)\\rangle$,\n",
    "\n",
    "where $|\\psi(t = 0)\\rangle$ is the initial state of the TLS at t = 0.\n",
    "\n",
    "Furthermore, QuTiP makes our lives easy and provides us with a function that automatically solves the Shrodinger Equation given a Hamiltonian $\\hat{H}$, the initial state of the system $|\\psi(t = 0)\\rangle$, and a list of times $t$ to simulate. Let's try out a simple example. This function is called sesolve(). \n",
    "\n",
    "Consider the case where the Hamiltonian is simply the Identity $\\hat{H} = \\hat{I}$. In this case, we would expect the system to always remain in the initial state, since the Identity operation should do nothing. Let's check this."
   ]
  },
  {
   "cell_type": "code",
   "execution_count": null,
   "metadata": {},
   "outputs": [],
   "source": [
    "H = qeye(N)\n",
    "psi_init = psi(0,0) # let's pick the psi_up state as the initial state\n",
    "tlist = np.linspace(0,np.pi,101) # We need to define a list of times that the Shrodinger Equation is solved\n",
    "\n",
    "result = sesolve(H, psi_init, tlist) # we provide the sesolve() function with the three pieces of information stated above"
   ]
  },
  {
   "cell_type": "markdown",
   "metadata": {},
   "source": [
    "Great, the simulation should have ran. But how do we see the state evolution? We can write a small function show the path that the state vector took, with the final state"
   ]
  },
  {
   "cell_type": "code",
   "execution_count": null,
   "metadata": {},
   "outputs": [],
   "source": [
    "def plotEvolution(result):\n",
    "    psi_y_negative = psi(np.pi/2,3*np.pi/2)\n",
    "    b = Bloch()\n",
    "    b.add_points([expect(sigmax(),result.states),expect(sigmay(),result.states),expect(sigmaz(),result.states)], meth='l')\n",
    "    b.add_states(result.states[-1])\n",
    "    b.show()\n",
    "\n",
    "plotEvolution(result)"
   ]
  },
  {
   "cell_type": "markdown",
   "metadata": {},
   "source": [
    "Nice, the state vector still in its initial state as we expected. Let's try this on another initial state to make sure it really is doing nothing."
   ]
  },
  {
   "cell_type": "code",
   "execution_count": null,
   "metadata": {},
   "outputs": [],
   "source": [
    "H = qeye(N)\n",
    "psi_init = psi(np.pi/2,0) # let's pick the psi_x_positive state as the initial state\n",
    "tlist = np.linspace(0,np.pi,101) # We need to define a list of times that the Shrodinger Equation is solved\n",
    "\n",
    "result = sesolve(H, psi_init, tlist) # we provide the sesolve() function with the three pieces of information stated above\n",
    "\n",
    "plotEvolution(result)"
   ]
  },
  {
   "cell_type": "markdown",
   "metadata": {},
   "source": [
    "Same as above, the the vector is still pointing to where it was initialized. Let's now try some more interesting Hamiltonians. \n",
    "\n",
    "Let's begin with $\\hat{H}=\\hat{\\sigma}_x$ and $|\\psi(t=0)\\rangle = |\\uparrow\\rangle$."
   ]
  },
  {
   "cell_type": "code",
   "execution_count": null,
   "metadata": {},
   "outputs": [],
   "source": [
    "H = sigmax()\n",
    "psi_init = psi(0,0) # let's pick the psi_x_positive state as the initial state\n",
    "tlist = np.linspace(0,np.pi,101) # We need to define a list of times that the Shrodinger Equation is solved\n",
    "\n",
    "result = sesolve(H, psi_init, tlist) # we provide the sesolve() function with the three pieces of information stated above\n",
    "\n",
    "plotEvolution(result)"
   ]
  },
  {
   "cell_type": "markdown",
   "metadata": {},
   "source": [
    "This is interesting. We seem to still be in the initial state, but, as indicated by the blue line, the state vector seems to have completed a full rotation about the x-axis after $t=\\pi$.\n",
    "\n",
    "Let's see what happens if we change the initial state to something else. Let's initialize it to point in the positive y-axis."
   ]
  },
  {
   "cell_type": "code",
   "execution_count": null,
   "metadata": {},
   "outputs": [],
   "source": [
    "H = sigmax()\n",
    "psi_init = psi(np.pi/2,np.pi/2) # let's pick the psi_x_positive state as the initial state\n",
    "tlist = np.linspace(0,np.pi,101) # We need to define a list of times that the Shrodinger Equation is solved\n",
    "\n",
    "result = sesolve(H, psi_init, tlist) # we provide the sesolve() function with the three pieces of information stated above\n",
    "\n",
    "plotEvolution(result)"
   ]
  },
  {
   "cell_type": "markdown",
   "metadata": {},
   "source": [
    "We pretty much get the same result: end up back where we started, but did a full rotation about the x-axis. Let's try one more initial state: pointing along positive the x-axis. "
   ]
  },
  {
   "cell_type": "code",
   "execution_count": null,
   "metadata": {},
   "outputs": [],
   "source": [
    "H = sigmax()\n",
    "psi_init = psi(np.pi/2,0) # let's pick the psi_x_positive state as the initial state\n",
    "tlist = np.linspace(0,np.pi,101) # We need to define a list of times that the Shrodinger Equation is solved\n",
    "\n",
    "result = sesolve(H, psi_init, tlist) # we provide the sesolve() function with the three pieces of information stated above\n",
    "\n",
    "plotEvolution(result)"
   ]
  },
  {
   "cell_type": "markdown",
   "metadata": {},
   "source": [
    "Nothing seems to have happened. From these three simulations, we can conclude that choosing $\\hat{H}=\\hat{\\sigma}_x$ makes any state vector rotate about the x-axis. If the initial state is already pointing along this axis, then clearly nothing should happen. \n",
    "\n",
    "$\\textbf{Exercise:}$ Consider what happens if we let the vector rotate for a time less than $\\pi$. Find the time for which the state $|\\psi\\rangle = |\\uparrow\\rangle$ is rotated to point along the positive y-axis. Does the vector rotate clockwise or counter-clockwise?"
   ]
  },
  {
   "cell_type": "code",
   "execution_count": null,
   "metadata": {},
   "outputs": [],
   "source": [
    "H = sigmax()\n",
    "psi_init = # fill in using function psi(theta,phi)\n",
    "tlist = # fill in\n",
    "\n",
    "result = sesolve(H, psi_init, tlist) # we provide the sesolve() function with the three pieces of information stated above\n",
    "\n",
    "plotEvolution(result)"
   ]
  },
  {
   "cell_type": "markdown",
   "metadata": {},
   "source": [
    "From these simulations, one might infer that the Hamiltonian $\\hat{H}=\\hat{\\sigma}_x$, the state vector is rotated about the x-axis by an angle $2t$. Let's see if this generalization for the other Pauli operators as well.\n",
    "\n",
    "$\\textbf{Exercise:}$ Run the the same simulations as above, but for all combinations of $\\hat{H}=\\hat{\\sigma}_i$ for $i\\in{x,y,z}$ and $|\\psi(t=0)\\rangle$ pointing along the positive x, y, and z axes up to a time $t=\\pi/4$. Take a minute to think about what is going on, and whether it makes sense before moving onto the next combination."
   ]
  },
  {
   "cell_type": "markdown",
   "metadata": {},
   "source": [
    "$\\hat{H}=\\hat{\\sigma}_x$, $|\\psi(t=0)\\rangle=$ postive x:"
   ]
  },
  {
   "cell_type": "code",
   "execution_count": 8,
   "metadata": {},
   "outputs": [
    {
     "ename": "SyntaxError",
     "evalue": "invalid syntax (<ipython-input-8-6f56c26f174b>, line 1)",
     "output_type": "error",
     "traceback": [
      "\u001b[0;36m  File \u001b[0;32m\"<ipython-input-8-6f56c26f174b>\"\u001b[0;36m, line \u001b[0;32m1\u001b[0m\n\u001b[0;31m    H =  # fill in\u001b[0m\n\u001b[0m         ^\u001b[0m\n\u001b[0;31mSyntaxError\u001b[0m\u001b[0;31m:\u001b[0m invalid syntax\n"
     ]
    }
   ],
   "source": [
    "H =  # fill in\n",
    "psi_init = # fill in using function psi(theta,phi)\n",
    "tlist =  # fill in\n",
    "result = sesolve(H, psi_init, tlist) # we provide the sesolve() function with the three pieces of information stated above\n",
    "plotEvolution(result)"
   ]
  },
  {
   "cell_type": "markdown",
   "metadata": {},
   "source": [
    "$\\hat{H}=\\hat{\\sigma}_x$, $|\\psi(t=0)\\rangle=$ postive y:"
   ]
  },
  {
   "cell_type": "code",
   "execution_count": null,
   "metadata": {},
   "outputs": [],
   "source": [
    "H = # fill in\n",
    "psi_init = # fill in using function psi(theta,phi)\n",
    "tlist = # fill in\n",
    "result = sesolve(H, psi_init, tlist) # we provide the sesolve() function with the three pieces of information stated above\n",
    "plotEvolution(result)"
   ]
  },
  {
   "cell_type": "markdown",
   "metadata": {},
   "source": [
    "$\\hat{H}=\\hat{\\sigma}_x$, $|\\psi(t=0)\\rangle=$ postive z:"
   ]
  },
  {
   "cell_type": "code",
   "execution_count": null,
   "metadata": {},
   "outputs": [],
   "source": [
    "H = # fill in\n",
    "psi_init = # fill in using function psi(theta,phi)\n",
    "tlist = # fill in\n",
    "result = sesolve(H, psi_init, tlist) # we provide the sesolve() function with the three pieces of information stated above\n",
    "plotEvolution(result)"
   ]
  },
  {
   "cell_type": "markdown",
   "metadata": {},
   "source": [
    "$\\hat{H}=\\hat{\\sigma}_y$, $|\\psi(t=0)\\rangle=$ postive x:"
   ]
  },
  {
   "cell_type": "code",
   "execution_count": null,
   "metadata": {},
   "outputs": [],
   "source": [
    "H = # fill in\n",
    "psi_init = # fill in using function psi(theta,phi)\n",
    "tlist = # fill in\n",
    "result = sesolve(H, psi_init, tlist) # we provide the sesolve() function with the three pieces of information stated above\n",
    "plotEvolution(result)"
   ]
  },
  {
   "cell_type": "markdown",
   "metadata": {},
   "source": [
    "$\\hat{H}=\\hat{\\sigma}_y$, $|\\psi(t=0)\\rangle=$ postive y:"
   ]
  },
  {
   "cell_type": "code",
   "execution_count": null,
   "metadata": {},
   "outputs": [],
   "source": [
    "H = # fill in\n",
    "psi_init = # fill in using function psi(theta,phi)\n",
    "tlist = # fill in\n",
    "result = sesolve(H, psi_init, tlist) # we provide the sesolve() function with the three pieces of information stated above\n",
    "plotEvolution(result)"
   ]
  },
  {
   "cell_type": "markdown",
   "metadata": {},
   "source": [
    "$\\hat{H}=\\hat{\\sigma}_y$, $|\\psi(t=0)\\rangle=$ postive z:"
   ]
  },
  {
   "cell_type": "code",
   "execution_count": null,
   "metadata": {},
   "outputs": [],
   "source": [
    "H = # fill in\n",
    "psi_init = # fill in using function psi(theta,phi)\n",
    "tlist = # fill in\n",
    "result = sesolve(H, psi_init, tlist) # we provide the sesolve() function with the three pieces of information stated above\n",
    "plotEvolution(result)"
   ]
  },
  {
   "cell_type": "markdown",
   "metadata": {},
   "source": [
    "$\\hat{H}=\\hat{\\sigma}_z$, $|\\psi(t=0)\\rangle=$ postive x:"
   ]
  },
  {
   "cell_type": "code",
   "execution_count": null,
   "metadata": {},
   "outputs": [],
   "source": [
    "H = # fill in\n",
    "psi_init = # fill in using function psi(theta,phi)\n",
    "tlist = # fill in\n",
    "result = sesolve(H, psi_init, tlist) # we provide the sesolve() function with the three pieces of information stated above\n",
    "plotEvolution(result)"
   ]
  },
  {
   "cell_type": "markdown",
   "metadata": {},
   "source": [
    "$\\hat{H}=\\hat{\\sigma}_z$, $|\\psi(t=0)\\rangle=$ postive y:"
   ]
  },
  {
   "cell_type": "code",
   "execution_count": null,
   "metadata": {},
   "outputs": [],
   "source": [
    "H = # fill in\n",
    "psi_init = # fill in using function psi(theta,phi)\n",
    "tlist = # fill in\n",
    "result = sesolve(H, psi_init, tlist) # we provide the sesolve() function with the three pieces of information stated above\n",
    "plotEvolution(result)"
   ]
  },
  {
   "cell_type": "markdown",
   "metadata": {},
   "source": [
    "$\\hat{H}=\\hat{\\sigma}_z$, $|\\psi(t=0)\\rangle=$ postive z:"
   ]
  },
  {
   "cell_type": "code",
   "execution_count": null,
   "metadata": {},
   "outputs": [],
   "source": [
    "H = # fill in\n",
    "psi_init = # fill in using function psi(theta,phi)\n",
    "tlist = # fill in\n",
    "result = sesolve(H, psi_init, tlist) # we provide the sesolve() function with the three pieces of information stated above\n",
    "plotEvolution(result)"
   ]
  },
  {
   "cell_type": "markdown",
   "metadata": {},
   "source": [
    "Great! After all that, it seems that depedning on which Pauli operator we choose, we rotate the initial state vector about that axis by an angle $2t$. But this brings up another question: can we only rotate state vectors about the x, y, or z axes? Or is there a way to generalize this such that the vector can rotate about any arbitrary axis? \n",
    "\n",
    "Much like how we came up with a way to represent states that can point in any arbitrary direction on the Bloch sphere, we can come up with a Hamiltonian that rotates these states about an arbitrary axis. It turns out that this Hamiltonian also parameterized by the same two angle $\\theta$ and $\\phi$:\n",
    "\n",
    "$\\hat{H}(\\theta,\\phi) = sin(\\theta)cos(\\phi)\\hat{\\sigma}_x + sin(\\theta)sin(\\phi)\\hat{\\sigma}_y + cos(\\theta)\\hat{\\sigma}_z$\n",
    "\n",
    "This Hamiltonian will rotate any initial state about the axis that points in the direction of the state vector $|\\psi(\\theta,\\phi)\\rangle$. \n",
    "\n",
    "$\\textbf{Exercise:}$ Complete the function that generates the parameterized Hamiltonian given above:"
   ]
  },
  {
   "cell_type": "code",
   "execution_count": null,
   "metadata": {},
   "outputs": [],
   "source": [
    "def Hamiltonian(theta,phi):\n",
    "    return # fill in using sigmax(), sigmay(), and sigmaz()"
   ]
  },
  {
   "cell_type": "markdown",
   "metadata": {},
   "source": [
    "$\\textbf{Exercise:}$ Find the values of $\\theta$ and $\\phi$ such that $\\hat{H}(\\theta,\\phi) = \\hat{\\sigma}_x$, $\\hat{H}(\\theta,\\phi) = \\hat{\\sigma}_y$, and $\\hat{H}(\\theta,\\phi) = \\hat{\\sigma}_z$. Once you find those values, plot the state $|\\psi(\\theta,\\phi)\\rangle$ on the Bloch sphere. What do you notice?"
   ]
  },
  {
   "cell_type": "code",
   "execution_count": null,
   "metadata": {},
   "outputs": [],
   "source": [
    "print(Hamiltonian(theta, phi) == sigmax()) # replace theta and phi with the values that print true\n",
    "print(Hamiltonian(theta, phi) == sigmay()) # replace theta and phi with the values that print true\n",
    "print(Hamiltonian(theta, phi) == sigmaz()) # replace theta and phi with the values that print true\n",
    "\n",
    "# plot the three state for the values of theta, phi you found above:\n",
    "\n",
    "# fill in\n",
    "\n",
    "\n",
    "\n"
   ]
  },
  {
   "cell_type": "markdown",
   "metadata": {},
   "source": [
    "Now, let's see if this Hamiltonian really does what I claimed it would do. Let's try an example with $\\theta=\\pi/4$ and $\\phi=0$, with the initial state $|\\psi\\rangle = |\\uparrow\\rangle$:"
   ]
  },
  {
   "cell_type": "code",
   "execution_count": null,
   "metadata": {},
   "outputs": [],
   "source": [
    "H = Hamiltonian(np.pi/4,0)\n",
    "psi_init = psi(0,0) # let's pick the psi__positive state as the initial state\n",
    "tlist = np.linspace(0,np.pi,101) # We need to define a list of times that the Shrodinger Equation is solved\n",
    "result = sesolve(H, psi_init, tlist) # we provide the sesolve() function with the three pieces of information stated above\n",
    "plotEvolution(result)"
   ]
  },
  {
   "cell_type": "markdown",
   "metadata": {},
   "source": [
    "It seems that that the vector has rotated about the axis formed at a 45-degree angle on the xz-plane. Let's see if this axis is indeed in the direction of $|\\psi(\\theta,\\phi)\\rangle$"
   ]
  },
  {
   "cell_type": "code",
   "execution_count": null,
   "metadata": {},
   "outputs": [],
   "source": [
    "p = psi(np.pi/4,0)\n",
    "b = Bloch()\n",
    "b.add_states(p)\n",
    "b.show()"
   ]
  },
  {
   "cell_type": "markdown",
   "metadata": {},
   "source": [
    "Sure seems like it! This completes the generalization. We now know how to rotate an arbitrary state vector $|\\psi(\\theta,\\phi)\\rangle$ about an arbitrary axis $\\hat{H}(\\theta',\\phi')$.\n",
    "\n",
    "For those of you wondering why went through the effort of doing all of this: in the coming lectures, you will learn that quantum gates are all a type of rotation operation. That is, the gate is defined by rotating the state of a qubit about some given axis and by some given angle.  \n",
    "\n",
    "$\\textbf{One final exercise:}$ Perform the same rotation operation as above, but this time with the initial state $|\\psi\\rangle = |\\downarrow\\rangle$\n",
    "\n"
   ]
  },
  {
   "cell_type": "code",
   "execution_count": null,
   "metadata": {},
   "outputs": [],
   "source": [
    "H = # fill in using Hamiltonian(theta,phi)\n",
    "psi_init = # fill in using psi(theta,phi)\n",
    "tlist = # fill in\n",
    "result = sesolve(H, psi_init, tlist) # we provide the sesolve() function with the three pieces of information stated above\n",
    "plotEvolution(result)"
   ]
  },
  {
   "cell_type": "markdown",
   "metadata": {},
   "source": [
    "It may look a bit funky since we are plotting a 3D object on a 2D screen, but you should see the vector rotate about that same axis, but in the bottom hemisphere."
   ]
  },
  {
   "cell_type": "code",
   "execution_count": null,
   "metadata": {},
   "outputs": [],
   "source": []
  }
 ],
 "metadata": {
  "kernelspec": {
   "display_name": "Python 3",
   "language": "python",
   "name": "python3"
  },
  "language_info": {
   "codemirror_mode": {
    "name": "ipython",
    "version": 3
   },
   "file_extension": ".py",
   "mimetype": "text/x-python",
   "name": "python",
   "nbconvert_exporter": "python",
   "pygments_lexer": "ipython3",
   "version": "3.8.8"
  }
 },
 "nbformat": 4,
 "nbformat_minor": 4
}
