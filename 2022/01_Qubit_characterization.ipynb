{
 "cells": [
  {
   "cell_type": "markdown",
   "id": "7ebbc95c-dd5f-4544-a4bd-97fa9dbeef51",
   "metadata": {},
   "source": [
    "# Qubit characterization\n",
    "\n",
    "In this lab, we perform the first steps that are required for operating a superconducting quantum processor. "
   ]
  },
  {
   "cell_type": "markdown",
   "id": "5913550b-0107-4007-940d-6f93579dc882",
   "metadata": {},
   "source": [
    "### 0. Getting Started\n",
    "\n",
    "First, we need to import the Qiskit Pulse packages we need."
   ]
  },
  {
   "cell_type": "code",
   "execution_count": 1,
   "id": "4fcd0679-003c-4381-bf95-f2ef9a7418fd",
   "metadata": {},
   "outputs": [],
   "source": [
    "import numpy as np\n",
    "import matplotlib.pyplot as plt\n",
    "\n",
    "# Importing standard Qiskit libraries\n",
    "from qiskit import QuantumCircuit, transpile, Aer, IBMQ, assemble\n",
    "from qiskit.tools.jupyter import *\n",
    "from qiskit.visualization import *\n",
    "from ibm_quantum_widgets import *\n",
    "from qiskit.providers.aer import QasmSimulator\n",
    "from qiskit.visualization.pulse_v2 import draw, IQXDebugging\n",
    "from qiskit.tools.monitor import job_monitor\n",
    "\n",
    "from qiskit import pulse            # This is where we access all of our Pulse features!\n",
    "from qiskit.pulse import Play, Acquire\n",
    "import qiskit.pulse.library as pulse_lib\n",
    "\n",
    "from scipy.signal import savgol_filter\n",
    "\n",
    "# Loading your IBM Quantum account(s)\n",
    "provider = IBMQ.load_account()"
   ]
  },
  {
   "cell_type": "markdown",
   "id": "90541326-f8a9-4ee7-8a9b-ada0a3f3a3eb",
   "metadata": {},
   "source": [
    "Here we define helper functions that we will use throughout this notebook"
   ]
  },
  {
   "cell_type": "code",
   "execution_count": 44,
   "id": "2d28091b-4efa-4557-9eac-e1ae69b482d1",
   "metadata": {},
   "outputs": [],
   "source": [
    "from scipy.optimize import curve_fit\n",
    "\n",
    "def get_closest_multiple_of_16(num):\n",
    "    return int(num + 8 ) - (int(num + 8 ) % 16)\n",
    "\n",
    "def process_reflective_measurement(freqs,values):\n",
    "    #phase_grad = np.gradient(savgol_filter(np.unwrap(np.angle(values)),5,3),freqs)\n",
    "    phase_grad = np.gradient(np.unwrap(np.angle(values)),freqs)\n",
    "    return (phase_grad-min(phase_grad))/(max(phase_grad)-min(phase_grad)) - 1\n",
    "\n",
    "def f_sine(t, fs, a, offs, ph):\n",
    "    return a*np.sin(2*np.pi*fs*t+ph)+offs\n",
    "\n",
    "def fit_rabi(x, y):\n",
    "    p0=[1/np.median(x)/2 , np.max(y), np.min(y), np.pi/2]\n",
    "    return curve_fit(f_sine, x, y, p0=p0)"
   ]
  },
  {
   "cell_type": "markdown",
   "id": "09d89c5a-23eb-47dd-9b14-cbb15f64d079",
   "metadata": {},
   "source": [
    "For this lab we will use the ***ibmq_armonk*** backend, which is capable of pulse-level control. The time unit of our pulse control is set by the resolution of analog waveform generators that are used to operator the backend."
   ]
  },
  {
   "cell_type": "code",
   "execution_count": 3,
   "id": "d309f4cf-9fbf-4c17-85f4-8afbfd09ed6f",
   "metadata": {},
   "outputs": [],
   "source": [
    "provider = IBMQ.get_provider(hub='ibm-q-internal', group='deployed', project='default')\n",
    "backend = provider.get_backend('ibmq_armonk')\n",
    "\n",
    "backend_config = backend.configuration()\n",
    "#backend_defaults = backend.defaults()\n",
    "backend.configuration().parametric_pulses = []\n",
    "\n",
    "inst_sched_map = backend.defaults().instruction_schedule_map\n",
    "\n",
    "dt=backend_config.dt   # hardware resolution"
   ]
  },
  {
   "cell_type": "markdown",
   "id": "6f934933-ecdd-42f5-b4de-e20b55ed308c",
   "metadata": {},
   "source": [
    "In our processors each qubit has three relevent channels:\n",
    "1. The ***drive channel** is use used for performing qubit gates\n",
    "2. The **measurement channel*** is used for probing the resonator coupled to the qubit, which is used for qubit readout\n",
    "3. The **acquire channel*** is used for aquiring the signal during the resonator measurement pulse"
   ]
  },
  {
   "cell_type": "code",
   "execution_count": 4,
   "id": "968bef91-1e9e-4a3b-95fa-bdb5a3e5c6da",
   "metadata": {},
   "outputs": [],
   "source": [
    "qubit=0   # qubit used in our experiment\n",
    "\n",
    "drive_chan = pulse.DriveChannel(qubit)  # microwave drive channel\n",
    "meas_chan = pulse.MeasureChannel(qubit) # resonator channel\n",
    "acq_chan = pulse.AcquireChannel(qubit)  # readout signal acquisition channel"
   ]
  },
  {
   "cell_type": "markdown",
   "id": "cbc8e262-4c38-43e5-b5f5-393acb17e4b8",
   "metadata": {},
   "source": [
    "### Resonator spectroscopy\n",
    "\n",
    "The first step in characterizing a qubit it finding the resonance frequency of the resonator coupled to the qubit. The resonator frequency can be used for probing the state of the qubit; In the dispersive regime, the resonator frequency changes depending on the state of the qubit."
   ]
  },
  {
   "cell_type": "markdown",
   "id": "109a82a2-3f6b-42de-8047-ad17a418683d",
   "metadata": {},
   "source": [
    "First, we set the duration and the amplitude of the readout pulse."
   ]
  },
  {
   "cell_type": "code",
   "execution_count": 5,
   "id": "841b233b-0b85-4d1a-a92f-b6d512b546ae",
   "metadata": {},
   "outputs": [],
   "source": [
    "readout_duration=5e-6\n",
    "readout_amp=0.1 # try lower power"
   ]
  },
  {
   "cell_type": "markdown",
   "id": "71346e48-b65b-4400-a27f-2c6428f7da39",
   "metadata": {},
   "source": [
    "The readout sequence consists of a readout pulse through the the measurement channel, while simultaneously acquiring the signal from the resonator. Here, we use a [GaussianSquare](https://qiskit.org/documentation/stubs/qiskit.pulse.GaussianSquare.html#qiskit.pulse.GaussianSquare) pulse with a Gaussian rise/fall and a constant plateau."
   ]
  },
  {
   "cell_type": "code",
   "execution_count": 6,
   "id": "566e42b8-d45c-4a1e-8add-75530466de1a",
   "metadata": {},
   "outputs": [],
   "source": [
    "with pulse.build(name='readout',backend=backend) as readout:\n",
    "    with pulse.align_left():\n",
    "        pulse.play(pulse.GaussianSquare(get_closest_multiple_of_16(readout_duration//dt), readout_amp, get_closest_multiple_of_16(20e-9//dt), risefall_sigma_ratio=1), meas_chan)\n",
    "        pulse.acquire(get_closest_multiple_of_16(readout_duration//dt), acq_chan, pulse.MemorySlot(0))"
   ]
  },
  {
   "cell_type": "code",
   "execution_count": 28,
   "id": "4a30b217-5dc7-4c91-b988-dc31c39018d8",
   "metadata": {},
   "outputs": [],
   "source": [
    "\n",
    "frequency_sweep_detunings=np.linspace(-6e6,6e6,31)\n",
    "readout_pulses=[]\n",
    "for detuning in frequency_sweep_detunings:\n",
    "    with pulse.build(name='readout',backend=backend) as readout_pulse:\n",
    "        with pulse.align_left():\n",
    "            pulse.shift_frequency(detuning, meas_chan)\n",
    "            pulse.play(pulse.GaussianSquare(get_closest_multiple_of_16(readout_duration//dt), readout_amp, get_closest_multiple_of_16(20e-9//dt), risefall_sigma_ratio=1), meas_chan)\n",
    "            pulse.acquire(get_closest_multiple_of_16(readout_duration//dt), acq_chan, pulse.MemorySlot(0))\n",
    "            \n",
    "    readout_pulses.append(readout_pulse)"
   ]
  },
  {
   "cell_type": "code",
   "execution_count": 29,
   "id": "f9ad153d-7ef9-4551-95a8-2f413ddbb66d",
   "metadata": {},
   "outputs": [
    {
     "data": {
      "image/png": "[encoded data removed]",
      "text/plain": [
       "<Figure size 936x237.6 with 1 Axes>"
      ]
     },
     "execution_count": 29,
     "metadata": {},
     "output_type": "execute_result"
    }
   ],
   "source": [
    "readout_pulses[30].draw(style=IQXDebugging())"
   ]
  },
  {
   "cell_type": "markdown",
   "id": "db698e0d-48c5-4dcd-b4be-57f7dcb5aecc",
   "metadata": {},
   "source": [
    "We sweep the frequency of the readout probe, to find the resonance frequency of the resonator."
   ]
  },
  {
   "cell_type": "code",
   "execution_count": 25,
   "id": "5125244a-b13c-464a-b593-a2d4dd9241cd",
   "metadata": {},
   "outputs": [],
   "source": [
    "resonator_freq_guess = backend.defaults().meas_freq_est[qubit]  # an estimate for the resonator frequency\n",
    "freq_span = 6e6 # resonator scan span. The span should be larger than the resonator linewidth kappa\n",
    "\n",
    "frequencies_range = resonator_freq_guess+ np.linspace(-freq_span/2,freq_span/2,31)\n",
    "\n",
    "readout_frequencies = [{meas_chan: freq} for freq in frequencies_range] "
   ]
  },
  {
   "cell_type": "code",
   "execution_count": 26,
   "id": "9df3d825-b625-4772-a738-0bef704270b7",
   "metadata": {},
   "outputs": [
    {
     "name": "stderr",
     "output_type": "stream",
     "text": [
      "/opt/conda/lib/python3.8/site-packages/qiskit/compiler/assembler.py:447: RuntimeWarning: Dynamic rep rates are supported on this backend. 'rep_delay' will be used instead of 'rep_time'.\n",
      "  warnings.warn(\n"
     ]
    }
   ],
   "source": [
    "num_shots = 4*1024 \n",
    "resonator_sweep = assemble(readout,\n",
    "                           backend=backend, \n",
    "                           meas_level=1,\n",
    "                           meas_return='avg',\n",
    "                           shots=num_shots,\n",
    "                           schedule_los=readout_frequencies)"
   ]
  },
  {
   "cell_type": "code",
   "execution_count": 30,
   "id": "a59f1ca3-6562-4f59-abc3-9356e5e5bbd8",
   "metadata": {},
   "outputs": [
    {
     "name": "stderr",
     "output_type": "stream",
     "text": [
      "/opt/conda/lib/python3.8/site-packages/qiskit/compiler/assembler.py:447: RuntimeWarning: Dynamic rep rates are supported on this backend. 'rep_delay' will be used instead of 'rep_time'.\n",
      "  warnings.warn(\n"
     ]
    }
   ],
   "source": [
    "num_shots = 2*1024 \n",
    "resonator_sweep = assemble(readout_pulses,\n",
    "                           backend=backend, \n",
    "                           meas_level=1,\n",
    "                           meas_return='avg',\n",
    "                           shots=num_shots)"
   ]
  },
  {
   "cell_type": "code",
   "execution_count": 32,
   "id": "e1996997-fad1-4750-8573-dedd30ff485a",
   "metadata": {},
   "outputs": [
    {
     "name": "stdout",
     "output_type": "stream",
     "text": [
      "Job Status: job has successfully run\n"
     ]
    }
   ],
   "source": [
    "job_resonator_sweep = backend.run(resonator_sweep)\n",
    "job_monitor(job_resonator_sweep)"
   ]
  },
  {
   "cell_type": "code",
   "execution_count": 28,
   "id": "e7ce183a-295c-4f89-b5c7-508adea22c71",
   "metadata": {},
   "outputs": [
    {
     "data": {
      "text/plain": [
       "[<matplotlib.lines.Line2D at 0x7fdd900553d0>]"
      ]
     },
     "execution_count": 28,
     "metadata": {},
     "output_type": "execute_result"
    },
    {
     "data": {
      "image/png": "[encoded data removed]",
      "text/plain": [
       "<Figure size 432x288 with 1 Axes>"
      ]
     },
     "metadata": {
      "needs_background": "light"
     },
     "output_type": "display_data"
    }
   ],
   "source": [
    "import matplotlib.pyplot as plt\n",
    "\n",
    "resonator_sweep_results = job_resonator_sweep.result(timeout=120)\n",
    "\n",
    "resonator_sweep_values = []\n",
    "for i in range(len(resonator_sweep_results.results)):\n",
    "    resonator_sweep_values.append(resonator_sweep_results.get_memory(i)[qubit])\n",
    "\n",
    "resonator_sweep_values = process_reflective_measurement(frequencies_range, resonator_sweep_values)\n",
    "\n",
    "plt.plot(frequencies_range/1e3, resonator_sweep_values,'-o', color='blue', lw=2)"
   ]
  },
  {
   "cell_type": "code",
   "execution_count": 38,
   "id": "be15c25e-0245-4b28-b0bd-6e2db0c79928",
   "metadata": {},
   "outputs": [
    {
     "data": {
      "text/plain": [
       "[<matplotlib.lines.Line2D at 0x7f23630d49a0>]"
      ]
     },
     "execution_count": 38,
     "metadata": {},
     "output_type": "execute_result"
    },
    {
     "data": {
      "image/png": "[encoded data removed]",
      "text/plain": [
       "<Figure size 432x288 with 1 Axes>"
      ]
     },
     "metadata": {
      "needs_background": "light"
     },
     "output_type": "display_data"
    }
   ],
   "source": [
    "import matplotlib.pyplot as plt\n",
    "\n",
    "resonator_sweep_results = job_resonator_sweep.result(timeout=120)\n",
    "\n",
    "resonator_sweep_values = []\n",
    "for i in range(len(resonator_sweep_results.results)):\n",
    "    resonator_sweep_values.append(resonator_sweep_results.get_memory(i)[qubit])\n",
    "\n",
    "#resonator_sweep_values = process_reflective_measurement(frequency_sweep_detunings, resonator_sweep_values)\n",
    "resonator_sweep_values=np.abs(resonator_sweep_values)\n",
    "\n",
    "plt.plot(frequency_sweep_detunings/1e3, resonator_sweep_values,'-o', color='blue', lw=2)"
   ]
  },
  {
   "cell_type": "markdown",
   "id": "7ab54c8b-7290-40fe-ba90-eb2d332b6726",
   "metadata": {},
   "source": [
    "### Qubit spectroscopy"
   ]
  },
  {
   "cell_type": "markdown",
   "id": "7107b027-806c-475f-b6ee-3b675e0519e0",
   "metadata": {},
   "source": [
    "After finding the resonator frequency, we perform qubit spectroscopy to find the transition frequency between the $|0\\rangle$ and the $|1\\rangle$ states of the qubit. This frequency $f$ corresponds to the transition energy $E=h.f$, where $h$ is Planck's constant. In experiment, we find this transition frequency by sweeping the drive frequency of the qubit to find the frequency that causes a transition between the $|0\\rangle$ and the $|1\\rangle$ states."
   ]
  },
  {
   "cell_type": "markdown",
   "id": "a523d4b3-baf1-43c8-bad0-3a07c5ce617b",
   "metadata": {},
   "source": [
    "For qubit spectroscopy we use a pulse with a long duration, and low amplitude."
   ]
  },
  {
   "cell_type": "code",
   "execution_count": 31,
   "id": "8b303716-df36-40bb-8a19-de5cf6a68b05",
   "metadata": {},
   "outputs": [],
   "source": [
    "spectroscopy_duration=.25e-6\n",
    "spectroscopy_amp=.1"
   ]
  },
  {
   "cell_type": "markdown",
   "id": "45821459-4bf7-4e59-a0db-20719523ba8a",
   "metadata": {},
   "source": [
    "We use a GuassianSquare pulse for qubit spectroscopy, followed by the readout sequence."
   ]
  },
  {
   "cell_type": "code",
   "execution_count": 32,
   "id": "376c042e-956b-4385-81eb-40ce3abadd65",
   "metadata": {},
   "outputs": [
    {
     "data": {
      "image/png": "[encoded data removed]",
      "text/plain": [
       "<Figure size 936x356.4 with 1 Axes>"
      ]
     },
     "execution_count": 32,
     "metadata": {},
     "output_type": "execute_result"
    }
   ],
   "source": [
    "with pulse.build(name='qubit_spectroscopy',backend=backend) as qubit_spectroscopy:\n",
    "    with pulse.align_sequential():\n",
    "        pulse.play(pulse.GaussianSquare(get_closest_multiple_of_16(spectroscopy_duration//dt), spectroscopy_amp, get_closest_multiple_of_16(20e-9//dt), risefall_sigma_ratio=1), drive_chan)\n",
    "        pulse.call(readout)\n",
    "    \n",
    "qubit_spectroscopy.draw(style=IQXDebugging())"
   ]
  },
  {
   "cell_type": "code",
   "execution_count": 33,
   "id": "9fbe3371-605c-48d1-9e9f-7c979cd818f5",
   "metadata": {},
   "outputs": [
    {
     "data": {
      "image/png": "[encoded data removed]",
      "text/plain": [
       "<Figure size 936x356.4 with 1 Axes>"
      ]
     },
     "execution_count": 33,
     "metadata": {},
     "output_type": "execute_result"
    }
   ],
   "source": [
    "freq_detunings=np.linspace(-5e6, 5e6, 51)\n",
    "qubit_spectroscopy_pulses=[]\n",
    "for detuning in freq_detunings:\n",
    "    with pulse.build(name='qubit_spectroscopy',backend=backend) as qubit_spectroscopy_pulse:\n",
    "        with pulse.align_sequential():\n",
    "            pulse.shift_frequency(detuning, drive_chan)\n",
    "            pulse.play(pulse.GaussianSquare(get_closest_multiple_of_16(spectroscopy_duration//dt), spectroscopy_amp, get_closest_multiple_of_16(20e-9//dt), risefall_sigma_ratio=1), drive_chan)\n",
    "            pulse.call(readout)\n",
    "            \n",
    "    qubit_spectroscopy_pulses.append(qubit_spectroscopy_pulse)\n",
    "    \n",
    "qubit_spectroscopy_pulses[2].draw(style=IQXDebugging())"
   ]
  },
  {
   "cell_type": "markdown",
   "id": "2f936f31-8fee-4931-84d0-fae81f3f0549",
   "metadata": {},
   "source": [
    "To find the qubit frequency we sweep the drive frequency."
   ]
  },
  {
   "cell_type": "code",
   "execution_count": 31,
   "id": "7bb39a0d-925e-47a8-b957-b1fe18374700",
   "metadata": {},
   "outputs": [],
   "source": [
    "qubit_freq_guess = backend.defaults().qubit_freq_est[qubit]  # an estimate for the resonator frequency\n",
    "freq_span = 60e6 # resonator scan span. The span should be larger than the resonator linewidth kappa\n",
    "\n",
    "frequencies_range = qubit_freq_guess+ np.linspace(-freq_span/2,freq_span/2,31)"
   ]
  },
  {
   "cell_type": "code",
   "execution_count": 32,
   "id": "2f0aebbb-5041-47b8-b6a7-5240ba607794",
   "metadata": {},
   "outputs": [
    {
     "name": "stderr",
     "output_type": "stream",
     "text": [
      "/opt/conda/lib/python3.8/site-packages/qiskit/compiler/assembler.py:447: RuntimeWarning: Dynamic rep rates are supported on this backend. 'rep_delay' will be used instead of 'rep_time'.\n",
      "  warnings.warn(\n"
     ]
    }
   ],
   "source": [
    "schedule_frequencies = [{drive_chan: freq} for freq in frequencies_range] \n",
    "\n",
    "num_shots = 8*1024 \n",
    "qubit_spectroscopy_sweep = assemble(qubit_spectroscopy,\n",
    "                                   backend=backend, \n",
    "                                   meas_level=1,\n",
    "                                   meas_return='avg',\n",
    "                                   shots=num_shots,\n",
    "                                   schedule_los=schedule_frequencies)"
   ]
  },
  {
   "cell_type": "code",
   "execution_count": 34,
   "id": "b55e6b6b-0a25-46d2-b964-e2f75d8a0b1c",
   "metadata": {},
   "outputs": [],
   "source": [
    "num_shots = 8*1024 \n",
    "qubit_spectroscopy_sweep = assemble(qubit_spectroscopy_pulses,\n",
    "                                   backend=backend, \n",
    "                                   meas_level=1,\n",
    "                                   meas_return='avg',\n",
    "                                   shots=num_shots)"
   ]
  },
  {
   "cell_type": "code",
   "execution_count": 35,
   "id": "931e383d-b2fe-4caf-bf1e-78a359c36bc8",
   "metadata": {},
   "outputs": [
    {
     "name": "stdout",
     "output_type": "stream",
     "text": [
      "Job Status: job has successfully run\n"
     ]
    }
   ],
   "source": [
    "job_qubit_spectroscopy_sweep = backend.run(qubit_spectroscopy_sweep)\n",
    "job_monitor(job_qubit_spectroscopy_sweep)\n",
    "\n",
    "qubit_spectroscopy_sweep_results = job_qubit_spectroscopy_sweep.result(timeout=120)"
   ]
  },
  {
   "cell_type": "code",
   "execution_count": 36,
   "id": "2897e518-fd0a-47a6-b860-87f2aa356e83",
   "metadata": {},
   "outputs": [
    {
     "data": {
      "image/png": "[encoded data removed]",
      "text/plain": [
       "<Figure size 432x288 with 1 Axes>"
      ]
     },
     "metadata": {
      "needs_background": "light"
     },
     "output_type": "display_data"
    }
   ],
   "source": [
    "qubit_spectroscopy_sweep_values = []\n",
    "for i in range(len(qubit_spectroscopy_sweep_results.results)):\n",
    "    qubit_spectroscopy_sweep_values.append(qubit_spectroscopy_sweep_results.get_memory(i)[qubit])\n",
    "\n",
    "plt.plot(freq_detunings, np.real(qubit_spectroscopy_sweep_values),'-o', color='blue', lw=2)\n",
    "plt.show()"
   ]
  },
  {
   "cell_type": "markdown",
   "id": "0dbe128c-3c9f-4c19-a25b-3de51bd744ab",
   "metadata": {},
   "source": [
    "### Rabi oscillation"
   ]
  },
  {
   "cell_type": "markdown",
   "id": "b581dd9c-8db3-4e8d-8068-233d9d9a948a",
   "metadata": {},
   "source": [
    "After finding the qubit frequency, we can use it to drive a coherent Rabi oscillation between the $|0\\rangle$ and $|1\\rangle$ states. Using Rabi oscillations we can find the amplitude needed for a $\\pi$-pulse to flip $|0\\rangle$ to $|1\\rangle$ and vice-versa."
   ]
  },
  {
   "cell_type": "markdown",
   "id": "03285edb-7d6a-4e6a-9fc3-6510e6993a7c",
   "metadata": {},
   "source": [
    "For this experiment we keep the duration and the width of the Rabi pulses constant, and sweep the amplitude."
   ]
  },
  {
   "cell_type": "code",
   "execution_count": 37,
   "id": "601d2d67-78cb-42cd-932a-c40e5ed56926",
   "metadata": {},
   "outputs": [],
   "source": [
    "pi_pulse_duration=200e-9\n",
    "pi_pulse_width=10e-9"
   ]
  },
  {
   "cell_type": "code",
   "execution_count": 38,
   "id": "62d87cbf-07de-4760-86aa-1abf699b0d15",
   "metadata": {},
   "outputs": [
    {
     "data": {
      "image/png": "[encoded data removed]",
      "text/plain": [
       "<Figure size 936x356.4 with 1 Axes>"
      ]
     },
     "execution_count": 38,
     "metadata": {},
     "output_type": "execute_result"
    }
   ],
   "source": [
    "drive_amps=np.linspace(0,0.5,51)\n",
    "rabi_pulses=[]\n",
    "for amp in drive_amps:\n",
    "    with pulse.build(name='temp_rabi_pulse',backend=backend) as temp_rabi_pulse:\n",
    "        with pulse.align_sequential():\n",
    "            pulse.play(pulse.GaussianSquare(get_closest_multiple_of_16(pi_pulse_duration//dt), amp, get_closest_multiple_of_16(pi_pulse_width//dt), risefall_sigma_ratio=1), drive_chan)\n",
    "            pulse.call(readout)\n",
    "            \n",
    "    rabi_pulses.append(temp_rabi_pulse)\n",
    "    \n",
    "rabi_pulses[-1].draw(style=IQXDebugging())"
   ]
  },
  {
   "cell_type": "code",
   "execution_count": 39,
   "id": "2750af30-a8f2-4057-a38e-c87ba5a2fce1",
   "metadata": {},
   "outputs": [],
   "source": [
    "num_shots = 4*1024 \n",
    "rabi_sweep = assemble(rabi_pulses,\n",
    "                       backend=backend, \n",
    "                       meas_level=1,\n",
    "                       meas_return='avg',\n",
    "                       shots=num_shots)"
   ]
  },
  {
   "cell_type": "code",
   "execution_count": 40,
   "id": "66c024bd-8d1a-4704-ad75-776105c5e6d9",
   "metadata": {},
   "outputs": [
    {
     "name": "stdout",
     "output_type": "stream",
     "text": [
      "Job Status: job has successfully run\n"
     ]
    }
   ],
   "source": [
    "job_rabi_sweep = backend.run(rabi_sweep)\n",
    "job_monitor(job_rabi_sweep)\n",
    "\n",
    "rabi_sweep_results = job_rabi_sweep.result(timeout=120)"
   ]
  },
  {
   "cell_type": "code",
   "execution_count": 47,
   "id": "b63676d7-9a48-49a5-ac71-a6df73a8c5a0",
   "metadata": {},
   "outputs": [
    {
     "name": "stderr",
     "output_type": "stream",
     "text": [
      "/opt/conda/lib/python3.8/site-packages/numpy/core/_asarray.py:102: ComplexWarning: Casting complex values to real discards the imaginary part\n",
      "  return array(a, dtype, copy=False, order=order)\n"
     ]
    },
    {
     "data": {
      "text/plain": [
       "0.14999703601766706"
      ]
     },
     "execution_count": 47,
     "metadata": {},
     "output_type": "execute_result"
    },
    {
     "data": {
      "image/png": "[encoded data removed]",
      "text/plain": [
       "<Figure size 432x288 with 1 Axes>"
      ]
     },
     "metadata": {
      "needs_background": "light"
     },
     "output_type": "display_data"
    }
   ],
   "source": [
    "rabi_sweep_values = []\n",
    "for i in range(len(rabi_sweep_results.results)):\n",
    "    rabi_sweep_values.append(rabi_sweep_results.get_memory(i)[qubit])\n",
    "\n",
    "popt, pcov= fit_rabi(drive_amps, np.real(rabi_sweep_values))\n",
    "\n",
    "plt.plot(drive_amps, f_sine(drive_amps, *popt),'-', color='red', lw=2)\n",
    "plt.plot(drive_amps, rabi_sweep_values,'-o', color='blue', lw=2)\n",
    "plt.xlabel('drive amplitude')\n",
    "\n",
    "pi_pulse_amp=1/(2*popt[0])\n",
    "pi_pulse_amp"
   ]
  },
  {
   "cell_type": "markdown",
   "id": "a58621ea-34c8-44a9-ba01-8db13714377a",
   "metadata": {},
   "source": [
    "By extracting the Rabi oscillation period we find the amplitude for a $\\pi$-pulse."
   ]
  },
  {
   "cell_type": "code",
   "execution_count": 48,
   "id": "26c87e56-f53c-4ded-b329-a72950f7938f",
   "metadata": {},
   "outputs": [],
   "source": [
    "with pulse.build(name='pi_pulse',backend=backend) as pi_pulse:\n",
    "        pulse.play(pulse.GaussianSquare(get_closest_multiple_of_16(pi_pulse_duration//dt), pi_pulse_amp, get_closest_multiple_of_16(pi_pulse_width//dt), risefall_sigma_ratio=1), drive_chan)"
   ]
  },
  {
   "cell_type": "markdown",
   "id": "6c3d70d4-ae1c-4763-82ce-a5c34ba4e28d",
   "metadata": {},
   "source": [
    "### $T_1$ measurement\n",
    "\n",
    "Next, we measure the qubit relaxation time, commonly referred to as $T_1$, by exciting the qubit to the $|1\\rangle$ state, and tracking its population after some time."
   ]
  },
  {
   "cell_type": "code",
   "execution_count": 10,
   "id": "3a6fd590-45ea-4cfe-91cd-4e0d6cad19fe",
   "metadata": {},
   "outputs": [
    {
     "data": {
      "image/png": "[encoded data removed]",
      "text/plain": [
       "<Figure size 936x356.4 with 1 Axes>"
      ]
     },
     "execution_count": 10,
     "metadata": {},
     "output_type": "execute_result"
    }
   ],
   "source": [
    "t1_delays=np.linspace(0,300e-6,51)\n",
    "\n",
    "relaxation_pulses=[]\n",
    "for delay in t1_delays:\n",
    "    with pulse.build(name='temp_relaxation_pulse',backend=backend) as temp_relaxation_pulse:\n",
    "        with pulse.align_sequential():\n",
    "            pulse.call(pi_pulse)\n",
    "            pulse.delay(get_closest_multiple_of_16(delay//dt), meas_chan)\n",
    "            pulse.call(readout)\n",
    "    relaxation_pulses.append(temp_relaxation_pulse)\n",
    "    \n",
    "relaxation_pulses[-1].draw(style=IQXDebugging())"
   ]
  },
  {
   "cell_type": "code",
   "execution_count": 11,
   "id": "eceeba0b-5b93-44c2-8da6-1f4668a78d2c",
   "metadata": {},
   "outputs": [],
   "source": [
    "num_shots = 4*1024 \n",
    "qubit_relaxation_sweep = assemble(relaxation_pulses,\n",
    "                                   backend=backend, \n",
    "                                   meas_level=1,\n",
    "                                   meas_return='avg',\n",
    "                                   shots=num_shots)"
   ]
  },
  {
   "cell_type": "code",
   "execution_count": 12,
   "id": "2cc3c065-c853-4673-8d5a-d8f2e68359bd",
   "metadata": {},
   "outputs": [
    {
     "name": "stderr",
     "output_type": "stream",
     "text": [
      "/tmp/ipykernel_59/1136663218.py:1: DeprecationWarning: Passing a Qobj to Backend.run is deprecated and will be removed in a future release. Please pass in circuits or pulse schedules instead.\n",
      "  job_qubit_relaxation_sweep = backend.run(qubit_relaxation_sweep)\n"
     ]
    },
    {
     "name": "stdout",
     "output_type": "stream",
     "text": [
      "Job Status: job has successfully run\n"
     ]
    }
   ],
   "source": [
    "job_qubit_relaxation_sweep = backend.run(qubit_relaxation_sweep)\n",
    "job_monitor(job_qubit_relaxation_sweep)\n",
    "\n",
    "qubit_relaxation_sweep_results = job_qubit_relaxation_sweep.result(timeout=120)"
   ]
  },
  {
   "cell_type": "code",
   "execution_count": 17,
   "id": "c7164140-938e-464a-b95f-a811a7ed2a56",
   "metadata": {},
   "outputs": [
    {
     "data": {
      "text/plain": [
       "Text(0.5, 0, 'drive amplitude')"
      ]
     },
     "execution_count": 17,
     "metadata": {},
     "output_type": "execute_result"
    },
    {
     "data": {
      "image/png": "[encoded data removed]",
      "text/plain": [
       "<Figure size 432x288 with 1 Axes>"
      ]
     },
     "metadata": {
      "needs_background": "light"
     },
     "output_type": "display_data"
    }
   ],
   "source": [
    "qubit_relaxation_values = []\n",
    "for i in range(len(qubit_relaxation_sweep_results.results)):\n",
    "    qubit_relaxation_values.append(qubit_relaxation_sweep_results.get_memory(i)[qubit])\n",
    "\n",
    "plt.plot(t1_delays, np.real(qubit_relaxation_values),'-o', color='blue', lw=2)\n",
    "plt.xlabel('drive amplitude')"
   ]
  },
  {
   "cell_type": "markdown",
   "id": "fc449e25-e64f-420a-8306-4c604aebae77",
   "metadata": {},
   "source": [
    "### $T_2$ Ramsey measurement\n",
    "\n",
    "Finally, we measure the qubit coherence time ($T_2$) using Ramsey measurements. "
   ]
  },
  {
   "cell_type": "code",
   "execution_count": 49,
   "id": "38e0ef3f-b860-40d3-b188-319b18b7e34d",
   "metadata": {},
   "outputs": [],
   "source": [
    "with pulse.build(name='pi2_pulse',backend=backend) as pi2_pulse:\n",
    "        pulse.play(pulse.GaussianSquare(get_closest_multiple_of_16(pi_pulse_duration//dt), pi_pulse_amp/2, get_closest_multiple_of_16(pi_pulse_width//dt), risefall_sigma_ratio=1), drive_chan)"
   ]
  },
  {
   "cell_type": "code",
   "execution_count": 68,
   "id": "8a8065c0-5315-4d7b-aa57-0f1754050b10",
   "metadata": {},
   "outputs": [
    {
     "data": {
      "image/png": "[encoded data removed]",
      "text/plain": [
       "<Figure size 936x356.4 with 1 Axes>"
      ]
     },
     "execution_count": 68,
     "metadata": {},
     "output_type": "execute_result"
    }
   ],
   "source": [
    "ramsey_delays=np.linspace(0,20e-6,51)\n",
    "drive_detuning=-0.2e6\n",
    "\n",
    "ramsey_pulses=[]\n",
    "for delay in ramsey_delays:\n",
    "    with pulse.build(name='temp_ramsey_pulse',backend=backend) as temp_ramsey_pulse:\n",
    "        with pulse.align_sequential():\n",
    "            #pulse.shift_frequency(drive_detuning, drive_chan)\n",
    "            with pulse.frequency_offset(drive_detuning, drive_chan):\n",
    "                pulse.call(pi2_pulse)\n",
    "                pulse.delay(get_closest_multiple_of_16(delay//dt), drive_chan)\n",
    "                #with ...\n",
    "                #pulse.shift_frequency(drive_detuning, drive_chan)\n",
    "                #pulse.freq_offset() context\n",
    "                pulse.call(pi2_pulse)\n",
    "                pulse.call(readout)\n",
    "    ramsey_pulses.append(temp_ramsey_pulse)\n",
    "    \n",
    "ramsey_pulses[-1].draw(style=IQXDebugging())"
   ]
  },
  {
   "cell_type": "code",
   "execution_count": 69,
   "id": "50eeaa7c-dacd-4d3f-bfa3-48c37ca51262",
   "metadata": {},
   "outputs": [],
   "source": [
    "num_shots = 8*1024 \n",
    "ramsey_sweep = assemble(ramsey_pulses,\n",
    "                       backend=backend, \n",
    "                       meas_level=1,\n",
    "                       meas_return='avg',\n",
    "                       shots=num_shots)"
   ]
  },
  {
   "cell_type": "code",
   "execution_count": 70,
   "id": "a530ae2c-48d2-4a7d-b118-2f49ecbd7c2e",
   "metadata": {},
   "outputs": [
    {
     "name": "stdout",
     "output_type": "stream",
     "text": [
      "Job Status: job has successfully run\n"
     ]
    }
   ],
   "source": [
    "job_ramsey_sweep = backend.run(ramsey_sweep)\n",
    "job_monitor(job_ramsey_sweep)\n",
    "\n",
    "ramsey_sweep_results = job_ramsey_sweep.result(timeout=120)"
   ]
  },
  {
   "cell_type": "code",
   "execution_count": 71,
   "id": "b8f576ea-2c43-4d18-9c86-64d597c0e15a",
   "metadata": {},
   "outputs": [
    {
     "data": {
      "text/plain": [
       "Text(0.5, 0, 'drive amplitude')"
      ]
     },
     "execution_count": 71,
     "metadata": {},
     "output_type": "execute_result"
    },
    {
     "data": {
      "image/png": "[encoded data removed]",
      "text/plain": [
       "<Figure size 432x288 with 1 Axes>"
      ]
     },
     "metadata": {
      "needs_background": "light"
     },
     "output_type": "display_data"
    }
   ],
   "source": [
    "ramsey_values = []\n",
    "for i in range(len(ramsey_sweep_results.results)):\n",
    "    ramsey_values.append(ramsey_sweep_results.get_memory(i)[qubit])\n",
    "\n",
    "plt.plot(ramsey_delays, np.real(ramsey_values),'-o', color='blue', lw=2)\n",
    "plt.xlabel('drive amplitude')"
   ]
  },
  {
   "cell_type": "code",
   "execution_count": null,
   "id": "a7ac5b4c-6af1-458b-98d6-7df3157ace2a",
   "metadata": {},
   "outputs": [],
   "source": []
  }
 ],
 "metadata": {
  "kernelspec": {
   "display_name": "Qiskit v0.33.1 (ipykernel)",
   "language": "python",
   "name": "python3"
  },
  "language_info": {
   "codemirror_mode": {
    "name": "ipython",
    "version": 3
   },
   "file_extension": ".py",
   "mimetype": "text/x-python",
   "name": "python",
   "nbconvert_exporter": "python",
   "pygments_lexer": "ipython3",
   "version": "3.8.10"
  },
  "widgets": {
   "application/vnd.jupyter.widget-state+json": {
    "state": {
     "0027433904da477eb30d57ae4775f6eb": {
      "model_module": "@jupyter-widgets/controls",
      "model_module_version": "1.5.0",
      "model_name": "ButtonStyleModel",
      "state": {
       "button_color": "white"
      }
     },
     "0097d4eebaf74317bf4d155528e59e33": {
      "model_module": "@jupyter-widgets/controls",
      "model_module_version": "1.5.0",
      "model_name": "DescriptionStyleModel",
      "state": {
       "description_width": ""
      }
     },
     "02d06873062641d3b2f76b66c8010e73": {
      "model_module": "@jupyter-widgets/controls",
      "model_module_version": "1.5.0",
      "model_name": "HBoxModel",
      "state": {
       "children": [
        "IPY_MODEL_af9c7e6892e048aeabe627f64e7a6d97",
        "IPY_MODEL_172a124ac703439aabc9c9e6b5f12a3c",
        "IPY_MODEL_bb1308ac82554925817db7026dd85e23",
        "IPY_MODEL_a5a9cc382a7e4717891752348790d519",
        "IPY_MODEL_53480c32d4154f70a53a13e7f7163143",
        "IPY_MODEL_60b9b4cd743e4fab849ea80938fb6583"
       ],
       "layout": "IPY_MODEL_c85a495ac5614597889d13070ef047ea"
      }
     },
     "0307b319815b4d1abf6d315e6bfdbcdc": {
      "model_module": "@jupyter-widgets/controls",
      "model_module_version": "1.5.0",
      "model_name": "ButtonModel",
      "state": {
       "icon": "close",
       "layout": "IPY_MODEL_17200ff701e54983a92db7490862d01c",
       "style": "IPY_MODEL_a0920f2053da41ce97ada580f54a98e7"
      }
     },
     "03cca6d3906e4fbc87930c9c215e30c4": {
      "model_module": "@jupyter-widgets/controls",
      "model_module_version": "1.5.0",
      "model_name": "HTMLModel",
      "state": {
       "layout": "IPY_MODEL_7525a144d19c414291df113559f5c67d",
       "style": "IPY_MODEL_6a49707c26874f4fa047af4fc8992900",
       "value": "-"
      }
     },
     "03eba2cae0554ee9974354f45fee25e3": {
      "model_module": "@jupyter-widgets/controls",
      "model_module_version": "1.5.0",
      "model_name": "DescriptionStyleModel",
      "state": {
       "description_width": ""
      }
     },
     "0638b2abf98e4f2395fb3e5bae88f124": {
      "model_module": "@jupyter-widgets/controls",
      "model_module_version": "1.5.0",
      "model_name": "DescriptionStyleModel",
      "state": {
       "description_width": ""
      }
     },
     "0790798ebf70429f87f4a49ce6db3fa1": {
      "model_module": "@jupyter-widgets/controls",
      "model_module_version": "1.5.0",
      "model_name": "HTMLModel",
      "state": {
       "layout": "IPY_MODEL_d259fd5cb2d949ac9d07719d6ff9a00c",
       "style": "IPY_MODEL_03eba2cae0554ee9974354f45fee25e3",
       "value": "61c39bd206d47f3af5c408f0"
      }
     },
     "085a3cd98692474da0262a13cf3eeec5": {
      "model_module": "@jupyter-widgets/controls",
      "model_module_version": "1.5.0",
      "model_name": "HTMLModel",
      "state": {
       "layout": "IPY_MODEL_7ea6450130f646f5a8d76bb84e787922",
       "style": "IPY_MODEL_58edc1a4371c49d9a9602a9e942caa67",
       "value": "-"
      }
     },
     "0a8a0f549e66416aaa5901171d5ad7f6": {
      "model_module": "@jupyter-widgets/controls",
      "model_module_version": "1.5.0",
      "model_name": "DescriptionStyleModel",
      "state": {
       "description_width": ""
      }
     },
     "0afd196d979346cc929c619546357a38": {
      "model_module": "@jupyter-widgets/controls",
      "model_module_version": "1.5.0",
      "model_name": "DescriptionStyleModel",
      "state": {
       "description_width": ""
      }
     },
     "0bbd9be6081d4654848d00289ab41989": {
      "model_module": "@jupyter-widgets/base",
      "model_module_version": "1.2.0",
      "model_name": "LayoutModel",
      "state": {
       "width": "145px"
      }
     },
     "0f851c0f248a4af4a29e8b60de18cadf": {
      "model_module": "@jupyter-widgets/controls",
      "model_module_version": "1.5.0",
      "model_name": "HTMLModel",
      "state": {
       "layout": "IPY_MODEL_16ae6bc9da0b4f5c8560f6ab91a6b18f",
       "style": "IPY_MODEL_14128fc7b42c48dab4505e8df4093d32",
       "value": "-"
      }
     },
     "0fa559ed25e74fe3ab2e5a891511522c": {
      "model_module": "@jupyter-widgets/controls",
      "model_module_version": "1.5.0",
      "model_name": "HTMLModel",
      "state": {
       "layout": "IPY_MODEL_f4aca025f0cb48bdb606bd8cc80b1947",
       "style": "IPY_MODEL_c08d749b6a2b4c028add04cfec5096b2",
       "value": "<font style='color:#34BC6E'>DONE</font>"
      }
     },
     "10aeaf8b9c534e61afa7c1e12b1dc348": {
      "model_module": "@jupyter-widgets/base",
      "model_module_version": "1.2.0",
      "model_name": "LayoutModel",
      "state": {
       "width": "95px"
      }
     },
     "13acaf22102240369441c1678bec82f6": {
      "model_module": "@jupyter-widgets/controls",
      "model_module_version": "1.5.0",
      "model_name": "DescriptionStyleModel",
      "state": {
       "description_width": ""
      }
     },
     "14128fc7b42c48dab4505e8df4093d32": {
      "model_module": "@jupyter-widgets/controls",
      "model_module_version": "1.5.0",
      "model_name": "DescriptionStyleModel",
      "state": {
       "description_width": ""
      }
     },
     "149fb97870de451eb444db6c65c23f07": {
      "model_module": "@jupyter-widgets/controls",
      "model_module_version": "1.5.0",
      "model_name": "DescriptionStyleModel",
      "state": {
       "description_width": ""
      }
     },
     "14a1e3f6df4d44d49d205509b4b47dcb": {
      "model_module": "@jupyter-widgets/controls",
      "model_module_version": "1.5.0",
      "model_name": "DescriptionStyleModel",
      "state": {
       "description_width": ""
      }
     },
     "151845b65e574ec28c611d2026d5d495": {
      "model_module": "@jupyter-widgets/controls",
      "model_module_version": "1.5.0",
      "model_name": "HTMLModel",
      "state": {
       "layout": "IPY_MODEL_a08d08ae057642dc861637fdebd2411e",
       "style": "IPY_MODEL_2ed2591aa57e4dbbaf2afd01c221e96c",
       "value": "<h5>Queue</h5>"
      }
     },
     "1608f0ba4c784fa3a3be516f4141a980": {
      "model_module": "@jupyter-widgets/controls",
      "model_module_version": "1.5.0",
      "model_name": "HTMLModel",
      "state": {
       "layout": "IPY_MODEL_97a253b590c54d1ab8728387e53b20fe",
       "style": "IPY_MODEL_b39c9b4208754693a7d0bf2004443bfa",
       "value": "<font style='color:#34BC6E'>DONE</font>"
      }
     },
     "16ae6bc9da0b4f5c8560f6ab91a6b18f": {
      "model_module": "@jupyter-widgets/base",
      "model_module_version": "1.2.0",
      "model_name": "LayoutModel",
      "state": {
       "width": "70px"
      }
     },
     "17148325efa54120a0b5d9a1f21e9c50": {
      "model_module": "@jupyter-widgets/controls",
      "model_module_version": "1.5.0",
      "model_name": "DescriptionStyleModel",
      "state": {
       "description_width": ""
      }
     },
     "17200ff701e54983a92db7490862d01c": {
      "model_module": "@jupyter-widgets/base",
      "model_module_version": "1.2.0",
      "model_name": "LayoutModel",
      "state": {
       "margin": "0px 5px 0px 0px",
       "width": "32px"
      }
     },
     "172a124ac703439aabc9c9e6b5f12a3c": {
      "model_module": "@jupyter-widgets/controls",
      "model_module_version": "1.5.0",
      "model_name": "HTMLModel",
      "state": {
       "layout": "IPY_MODEL_36998ac7f7db4f17892fe1cbdf526452",
       "style": "IPY_MODEL_a9768582946a47ce9b478f0ad14f7e62",
       "value": "61c3885557635405cdf4fa29"
      }
     },
     "1861e3a86ded45d9a700c170eba956b6": {
      "model_module": "@jupyter-widgets/controls",
      "model_module_version": "1.5.0",
      "model_name": "HTMLModel",
      "state": {
       "layout": "IPY_MODEL_6a0c8959b40e4f298e5c951dc6a85990",
       "style": "IPY_MODEL_149fb97870de451eb444db6c65c23f07",
       "value": "job has successfully run"
      }
     },
     "18eae0bf333f4756ab010f313b81dbc3": {
      "model_module": "@jupyter-widgets/controls",
      "model_module_version": "1.5.0",
      "model_name": "DescriptionStyleModel",
      "state": {
       "description_width": ""
      }
     },
     "19b87fdb9e4a43ce94571a9533c7626c": {
      "model_module": "@jupyter-widgets/controls",
      "model_module_version": "1.5.0",
      "model_name": "ButtonModel",
      "state": {
       "icon": "close",
       "layout": "IPY_MODEL_263072e3d4cf46239ded220c8f0a995c",
       "style": "IPY_MODEL_a750785e349b4736b3b10b96f4ec0514"
      }
     },
     "1b8a8d7d86044deb84084d3e5d7c16b6": {
      "model_module": "@jupyter-widgets/base",
      "model_module_version": "1.2.0",
      "model_name": "LayoutModel",
      "state": {
       "width": "190px"
      }
     },
     "1c36fc9497044197aa48e2701ba73a57": {
      "model_module": "@jupyter-widgets/controls",
      "model_module_version": "1.5.0",
      "model_name": "HTMLModel",
      "state": {
       "layout": "IPY_MODEL_375743f0085446658e912b97ff8d3492",
       "style": "IPY_MODEL_e490a26ed5084378bd134df768655cbb",
       "value": "<font style='color:#34BC6E'>DONE</font>"
      }
     },
     "1d715e5b56374719b887bf78277949d4": {
      "model_module": "@jupyter-widgets/controls",
      "model_module_version": "1.5.0",
      "model_name": "HTMLModel",
      "state": {
       "layout": "IPY_MODEL_5d50fd7259cb46abab4f1b42b7ec43c5",
       "style": "IPY_MODEL_7a288d823eb74fd7b2090a112246aa99",
       "value": "job has successfully run"
      }
     },
     "20088302003642159bd0b323101b1336": {
      "model_module": "@jupyter-widgets/controls",
      "model_module_version": "1.5.0",
      "model_name": "DescriptionStyleModel",
      "state": {
       "description_width": ""
      }
     },
     "201daf026d1147e090821b3a6a2ea909": {
      "model_module": "@jupyter-widgets/controls",
      "model_module_version": "1.5.0",
      "model_name": "HTMLModel",
      "state": {
       "layout": "IPY_MODEL_a1113916fdb64731b8ffb9ba63738263",
       "style": "IPY_MODEL_c8e9ff2e9a6f4f298a5088f27245ec4b",
       "value": "<font style='color:#34BC6E'>DONE</font>"
      }
     },
     "206690092d6c47268c1a6094efacaa6b": {
      "model_module": "@jupyter-widgets/base",
      "model_module_version": "1.2.0",
      "model_name": "LayoutModel",
      "state": {
       "margin": "0px 0px 10px 0px"
      }
     },
     "21ea18012648477e87980ab856c818cf": {
      "model_module": "@jupyter-widgets/controls",
      "model_module_version": "1.5.0",
      "model_name": "HTMLModel",
      "state": {
       "layout": "IPY_MODEL_c5ac4e90880a479c968380605e423981",
       "style": "IPY_MODEL_a8932a3a66bb49989a660d454d0b78a5",
       "value": "<font style='color:#FFB000'>CANCELLED</font>"
      }
     },
     "23b9c2b79d5a4496a019220d03eca0b0": {
      "model_module": "@jupyter-widgets/controls",
      "model_module_version": "1.5.0",
      "model_name": "HTMLModel",
      "state": {
       "layout": "IPY_MODEL_2e132470087f4e11b67d8f04c74c1e40",
       "style": "IPY_MODEL_459c90c0825946db80c1ca60baaf3126",
       "value": "job has successfully run"
      }
     },
     "2533db20f4fd406bbbc6843b30c0ba31": {
      "model_module": "@jupyter-widgets/controls",
      "model_module_version": "1.5.0",
      "model_name": "DescriptionStyleModel",
      "state": {
       "description_width": ""
      }
     },
     "263072e3d4cf46239ded220c8f0a995c": {
      "model_module": "@jupyter-widgets/base",
      "model_module_version": "1.2.0",
      "model_name": "LayoutModel",
      "state": {
       "margin": "0px 5px 0px 0px",
       "width": "32px"
      }
     },
     "281e677befe0463c8339f7997e9b0103": {
      "model_module": "@jupyter-widgets/controls",
      "model_module_version": "1.5.0",
      "model_name": "DescriptionStyleModel",
      "state": {
       "description_width": ""
      }
     },
     "2ce76703de2e4ab0890ccbd533be05b2": {
      "model_module": "@jupyter-widgets/controls",
      "model_module_version": "1.5.0",
      "model_name": "GridBoxModel",
      "state": {
       "children": [
        "IPY_MODEL_6c85c331fb2349eea3eaf60ec82d9556"
       ],
       "layout": "IPY_MODEL_e1c95e93229845bfad6a29371fa76ea4"
      }
     },
     "2e132470087f4e11b67d8f04c74c1e40": {
      "model_module": "@jupyter-widgets/base",
      "model_module_version": "1.2.0",
      "model_name": "LayoutModel",
      "state": {
       "overflow_x": "scroll"
      }
     },
     "2ed2591aa57e4dbbaf2afd01c221e96c": {
      "model_module": "@jupyter-widgets/controls",
      "model_module_version": "1.5.0",
      "model_name": "DescriptionStyleModel",
      "state": {
       "description_width": ""
      }
     },
     "3011a047d438454ea1a3581ae615859b": {
      "model_module": "@jupyter-widgets/base",
      "model_module_version": "1.2.0",
      "model_name": "LayoutModel",
      "state": {
       "width": "145px"
      }
     },
     "337c6c1fc3a34b2bb7bc55128bc5193c": {
      "model_module": "@jupyter-widgets/controls",
      "model_module_version": "1.5.0",
      "model_name": "HTMLModel",
      "state": {
       "layout": "IPY_MODEL_a2cf3182136a487e92200142d11f9d4d",
       "style": "IPY_MODEL_85a314b6ce2744668e24eae8468226c6",
       "value": "ibmq_armonk"
      }
     },
     "34918ab799de4f69b1509068b4c65a5a": {
      "model_module": "@jupyter-widgets/controls",
      "model_module_version": "1.5.0",
      "model_name": "HBoxModel",
      "state": {
       "children": [
        "IPY_MODEL_70ce823a5bff4dff9a6b982616daef6f",
        "IPY_MODEL_5c576ee5559340cbbd9c495b1b8a5459",
        "IPY_MODEL_3de415c4f5874ca5844a24079aafbb78",
        "IPY_MODEL_1608f0ba4c784fa3a3be516f4141a980",
        "IPY_MODEL_0f851c0f248a4af4a29e8b60de18cadf",
        "IPY_MODEL_1861e3a86ded45d9a700c170eba956b6"
       ],
       "layout": "IPY_MODEL_3ecf7e0400c74706b43f81b4e0062ac7"
      }
     },
     "36998ac7f7db4f17892fe1cbdf526452": {
      "model_module": "@jupyter-widgets/base",
      "model_module_version": "1.2.0",
      "model_name": "LayoutModel",
      "state": {
       "width": "190px"
      }
     },
     "375743f0085446658e912b97ff8d3492": {
      "model_module": "@jupyter-widgets/base",
      "model_module_version": "1.2.0",
      "model_name": "LayoutModel",
      "state": {
       "width": "95px"
      }
     },
     "3809898b96dc49a1b81580fa21ff1102": {
      "model_module": "@jupyter-widgets/base",
      "model_module_version": "1.2.0",
      "model_name": "LayoutModel",
      "state": {
       "margin": "0px 5px 0px 0px",
       "width": "32px"
      }
     },
     "3829da4c606d4a0abda310256990c0d4": {
      "model_module": "@jupyter-widgets/controls",
      "model_module_version": "1.5.0",
      "model_name": "ButtonStyleModel",
      "state": {}
     },
     "38d84cd95cdb4ad294910d2374615f6d": {
      "model_module": "@jupyter-widgets/base",
      "model_module_version": "1.2.0",
      "model_name": "LayoutModel",
      "state": {
       "margin": "0px 5px 0px 0px",
       "width": "32px"
      }
     },
     "3a84b091f9b347eabcd6f02ef213d6f7": {
      "model_module": "@jupyter-widgets/controls",
      "model_module_version": "1.5.0",
      "model_name": "HTMLModel",
      "state": {
       "layout": "IPY_MODEL_10aeaf8b9c534e61afa7c1e12b1dc348",
       "style": "IPY_MODEL_13acaf22102240369441c1678bec82f6",
       "value": "<font style='color:#34BC6E'>DONE</font>"
      }
     },
     "3de415c4f5874ca5844a24079aafbb78": {
      "model_module": "@jupyter-widgets/controls",
      "model_module_version": "1.5.0",
      "model_name": "HTMLModel",
      "state": {
       "layout": "IPY_MODEL_adcd8ff1b7354713b76f15854886a8d1",
       "style": "IPY_MODEL_dfaf9e0345264c1a8bf89d280a1e795d",
       "value": "ibmq_armonk"
      }
     },
     "3e5d1a67d8674762803c4b17e7dfcc1b": {
      "model_module": "@jupyter-widgets/controls",
      "model_module_version": "1.5.0",
      "model_name": "HTMLModel",
      "state": {
       "layout": "IPY_MODEL_588cc360aeb14934bc12161a3e20887c",
       "style": "IPY_MODEL_548d7a3b316d4a00aff6c6881777105d",
       "value": "<font style='color:#34BC6E'>DONE</font>"
      }
     },
     "3ecf7e0400c74706b43f81b4e0062ac7": {
      "model_module": "@jupyter-widgets/base",
      "model_module_version": "1.2.0",
      "model_name": "LayoutModel",
      "state": {
       "max_width": "700px",
       "min_width": "700px"
      }
     },
     "4059240be6d944edab216d538b7e020b": {
      "model_module": "@jupyter-widgets/base",
      "model_module_version": "1.2.0",
      "model_name": "LayoutModel",
      "state": {
       "width": "70px"
      }
     },
     "40ed6a06abf24ce1a0c57d8bc892b21c": {
      "model_module": "@jupyter-widgets/controls",
      "model_module_version": "1.5.0",
      "model_name": "HTMLModel",
      "state": {
       "layout": "IPY_MODEL_ce302c9e4e40498d968fbbf3f1f8aadf",
       "style": "IPY_MODEL_7e765ce7834a427fabe29721ffdcbe14",
       "value": "ibmq_armonk"
      }
     },
     "4484d289a8cb49fb86d7bf0159dd0e94": {
      "model_module": "@jupyter-widgets/controls",
      "model_module_version": "1.5.0",
      "model_name": "HTMLModel",
      "state": {
       "layout": "IPY_MODEL_adfe81a542784611b13e1af6ad511c5f",
       "style": "IPY_MODEL_9092cf6fd02b45f1915fd78e895396e1",
       "value": "-"
      }
     },
     "459c90c0825946db80c1ca60baaf3126": {
      "model_module": "@jupyter-widgets/controls",
      "model_module_version": "1.5.0",
      "model_name": "DescriptionStyleModel",
      "state": {
       "description_width": ""
      }
     },
     "477258f48e33422da76c4ac8fefbfc79": {
      "model_module": "@jupyter-widgets/base",
      "model_module_version": "1.2.0",
      "model_name": "LayoutModel",
      "state": {
       "max_width": "700px",
       "min_width": "700px"
      }
     },
     "47f4f6ac778b4b1e8f58f3a9d8fa2b56": {
      "model_module": "@jupyter-widgets/controls",
      "model_module_version": "1.5.0",
      "model_name": "ButtonStyleModel",
      "state": {
       "button_color": "white"
      }
     },
     "4b45eefac7b14852b4d8a72da6a0f77f": {
      "model_module": "@jupyter-widgets/base",
      "model_module_version": "1.2.0",
      "model_name": "LayoutModel",
      "state": {
       "width": "190px"
      }
     },
     "4be50844f71b45e893eb86a17b94f1eb": {
      "model_module": "@jupyter-widgets/base",
      "model_module_version": "1.2.0",
      "model_name": "LayoutModel",
      "state": {
       "overflow_x": "scroll"
      }
     },
     "4f31c97a14fb4f4d858284229f26b207": {
      "model_module": "@jupyter-widgets/controls",
      "model_module_version": "1.5.0",
      "model_name": "HBoxModel",
      "state": {
       "children": [
        "IPY_MODEL_cdd46fbf302542a8832d755ab926b1f1",
        "IPY_MODEL_67427b72ee9741c180da7ea53d8cf5b3",
        "IPY_MODEL_f3a8922c07bd418680c1686fe23f701d",
        "IPY_MODEL_201daf026d1147e090821b3a6a2ea909",
        "IPY_MODEL_d3d143e4d21647e5aa69db6c87b6323b",
        "IPY_MODEL_23b9c2b79d5a4496a019220d03eca0b0"
       ],
       "layout": "IPY_MODEL_c90aaa2941aa467e996765a4c8d47aa0"
      }
     },
     "4f9924c3582546f494f46f27e58bc33b": {
      "model_module": "@jupyter-widgets/controls",
      "model_module_version": "1.5.0",
      "model_name": "HBoxModel",
      "state": {
       "children": [
        "IPY_MODEL_e84e8e3f3c8049c483b348319817d133",
        "IPY_MODEL_0790798ebf70429f87f4a49ce6db3fa1",
        "IPY_MODEL_8e2c5821ff744420a8d0e427a7d88c33",
        "IPY_MODEL_0fa559ed25e74fe3ab2e5a891511522c",
        "IPY_MODEL_03cca6d3906e4fbc87930c9c215e30c4",
        "IPY_MODEL_1d715e5b56374719b887bf78277949d4"
       ],
       "layout": "IPY_MODEL_92dffaaabd5c4fc993782b10d90677a9"
      }
     },
     "4fbb844db803419797326cdc4f510202": {
      "model_module": "@jupyter-widgets/base",
      "model_module_version": "1.2.0",
      "model_name": "LayoutModel",
      "state": {
       "overflow_x": "scroll"
      }
     },
     "50422f8c00d04c77967bdcab92c9991a": {
      "model_module": "@jupyter-widgets/base",
      "model_module_version": "1.2.0",
      "model_name": "LayoutModel",
      "state": {
       "overflow_x": "scroll"
      }
     },
     "52c82b0eafb44cd3a76d5b3d947c0680": {
      "model_module": "@jupyter-widgets/controls",
      "model_module_version": "1.5.0",
      "model_name": "DescriptionStyleModel",
      "state": {
       "description_width": ""
      }
     },
     "53480c32d4154f70a53a13e7f7163143": {
      "model_module": "@jupyter-widgets/controls",
      "model_module_version": "1.5.0",
      "model_name": "HTMLModel",
      "state": {
       "layout": "IPY_MODEL_f0eaed9286874975b5291d649e2b7af5",
       "style": "IPY_MODEL_281e677befe0463c8339f7997e9b0103",
       "value": "-"
      }
     },
     "541e8e29e54b415e9ecfef13d914219f": {
      "model_module": "@jupyter-widgets/controls",
      "model_module_version": "1.5.0",
      "model_name": "ButtonModel",
      "state": {
       "icon": "close",
       "layout": "IPY_MODEL_dfe79128dc0242b78766de4cc64be64f",
       "style": "IPY_MODEL_9bece05ac1314d02959ca74bf7478092"
      }
     },
     "548d7a3b316d4a00aff6c6881777105d": {
      "model_module": "@jupyter-widgets/controls",
      "model_module_version": "1.5.0",
      "model_name": "DescriptionStyleModel",
      "state": {
       "description_width": ""
      }
     },
     "572672889c5b4153a534e9b2d274a63e": {
      "model_module": "@jupyter-widgets/controls",
      "model_module_version": "1.5.0",
      "model_name": "DescriptionStyleModel",
      "state": {
       "description_width": ""
      }
     },
     "588cc360aeb14934bc12161a3e20887c": {
      "model_module": "@jupyter-widgets/base",
      "model_module_version": "1.2.0",
      "model_name": "LayoutModel",
      "state": {
       "width": "95px"
      }
     },
     "58edc1a4371c49d9a9602a9e942caa67": {
      "model_module": "@jupyter-widgets/controls",
      "model_module_version": "1.5.0",
      "model_name": "DescriptionStyleModel",
      "state": {
       "description_width": ""
      }
     },
     "5b07399b46c44bf48827ca8d4c5aaa61": {
      "model_module": "@jupyter-widgets/base",
      "model_module_version": "1.2.0",
      "model_name": "LayoutModel",
      "state": {
       "width": "95px"
      }
     },
     "5be76584be044ce981689445d4e6f7e5": {
      "model_module": "@jupyter-widgets/controls",
      "model_module_version": "1.5.0",
      "model_name": "HTMLModel",
      "state": {
       "layout": "IPY_MODEL_4fbb844db803419797326cdc4f510202",
       "style": "IPY_MODEL_6a9cc36124f94724af6ddc6ce3691c55",
       "value": "job has been cancelled"
      }
     },
     "5c576ee5559340cbbd9c495b1b8a5459": {
      "model_module": "@jupyter-widgets/controls",
      "model_module_version": "1.5.0",
      "model_name": "HTMLModel",
      "state": {
       "layout": "IPY_MODEL_4b45eefac7b14852b4d8a72da6a0f77f",
       "style": "IPY_MODEL_52c82b0eafb44cd3a76d5b3d947c0680",
       "value": "61c394205763545c7ef4fa3a"
      }
     },
     "5d1c61ccb68a44e7a108656943635524": {
      "model_module": "@jupyter-widgets/controls",
      "model_module_version": "1.5.0",
      "model_name": "HTMLModel",
      "state": {
       "layout": "IPY_MODEL_3011a047d438454ea1a3581ae615859b",
       "style": "IPY_MODEL_d68c2b4caffa4f66907074880e4c18d1",
       "value": "<h5>Backend</h5>"
      }
     },
     "5d50fd7259cb46abab4f1b42b7ec43c5": {
      "model_module": "@jupyter-widgets/base",
      "model_module_version": "1.2.0",
      "model_name": "LayoutModel",
      "state": {
       "overflow_x": "scroll"
      }
     },
     "5d611712624a43d7ae407fcb1143710a": {
      "model_module": "@jupyter-widgets/base",
      "model_module_version": "1.2.0",
      "model_name": "LayoutModel",
      "state": {
       "width": "190px"
      }
     },
     "5de5cf0d50684829a7647c3179381058": {
      "model_module": "@jupyter-widgets/base",
      "model_module_version": "1.2.0",
      "model_name": "LayoutModel",
      "state": {
       "overflow_x": "scroll"
      }
     },
     "5e1560fd70ee4b40adf69969cbb1b446": {
      "model_module": "@jupyter-widgets/base",
      "model_module_version": "1.2.0",
      "model_name": "LayoutModel",
      "state": {
       "width": "190px"
      }
     },
     "5e86a20ccf9847cfb7278d22d8a57304": {
      "model_module": "@jupyter-widgets/controls",
      "model_module_version": "1.5.0",
      "model_name": "HBoxModel",
      "state": {
       "children": [
        "IPY_MODEL_75680373e1a740f584a3ad8da8487246",
        "IPY_MODEL_5d1c61ccb68a44e7a108656943635524",
        "IPY_MODEL_be010582980e492fbc96f2281c5d88a6",
        "IPY_MODEL_151845b65e574ec28c611d2026d5d495",
        "IPY_MODEL_a150dd4df8fb41adb20848794a57de98"
       ],
       "layout": "IPY_MODEL_fd86b8ee9bae43459bab746c45285f1e"
      }
     },
     "5ea332c9f51f4d83bc78176a443255a5": {
      "model_module": "@jupyter-widgets/base",
      "model_module_version": "1.2.0",
      "model_name": "LayoutModel",
      "state": {
       "width": "190px"
      }
     },
     "5f5e66f437124750a999a2c175e1e246": {
      "model_module": "@jupyter-widgets/controls",
      "model_module_version": "1.5.0",
      "model_name": "HTMLModel",
      "state": {
       "layout": "IPY_MODEL_f2caa0afd287424c89adc623db95ab80",
       "style": "IPY_MODEL_0afd196d979346cc929c619546357a38",
       "value": "ibmq_armonk"
      }
     },
     "60b9b4cd743e4fab849ea80938fb6583": {
      "model_module": "@jupyter-widgets/controls",
      "model_module_version": "1.5.0",
      "model_name": "HTMLModel",
      "state": {
       "layout": "IPY_MODEL_50422f8c00d04c77967bdcab92c9991a",
       "style": "IPY_MODEL_8086debbc6c4473b9a399ec3b0109d52",
       "value": "job has successfully run"
      }
     },
     "66028c57835749a4adfa83964f8eaccd": {
      "model_module": "@jupyter-widgets/controls",
      "model_module_version": "1.5.0",
      "model_name": "DescriptionStyleModel",
      "state": {
       "description_width": ""
      }
     },
     "67427b72ee9741c180da7ea53d8cf5b3": {
      "model_module": "@jupyter-widgets/controls",
      "model_module_version": "1.5.0",
      "model_name": "HTMLModel",
      "state": {
       "layout": "IPY_MODEL_5d611712624a43d7ae407fcb1143710a",
       "style": "IPY_MODEL_572672889c5b4153a534e9b2d274a63e",
       "value": "61c39a5220e2c4eaf1eae16f"
      }
     },
     "67e7afc40fc64bf996cd0417d28a59b1": {
      "model_module": "@jupyter-widgets/controls",
      "model_module_version": "1.5.0",
      "model_name": "HBoxModel",
      "state": {
       "children": [
        "IPY_MODEL_0307b319815b4d1abf6d315e6bfdbcdc",
        "IPY_MODEL_690277fdea954e82bf2aa7c45714ac0c",
        "IPY_MODEL_d7008fe4a3874c649d2202c5f3906791",
        "IPY_MODEL_3e5d1a67d8674762803c4b17e7dfcc1b",
        "IPY_MODEL_ca7523e3a6c0423aa3f68f4c7382c4f1",
        "IPY_MODEL_f8045033c1dd48e2ae306547a124f422"
       ],
       "layout": "IPY_MODEL_477258f48e33422da76c4ac8fefbfc79"
      }
     },
     "690277fdea954e82bf2aa7c45714ac0c": {
      "model_module": "@jupyter-widgets/controls",
      "model_module_version": "1.5.0",
      "model_name": "HTMLModel",
      "state": {
       "layout": "IPY_MODEL_e24a478960c84337a45acd464c252d1b",
       "style": "IPY_MODEL_b90a110c5fa2409a9bcde15cabb705ed",
       "value": "61c397dd57635427d8f4fa47"
      }
     },
     "6a0c8959b40e4f298e5c951dc6a85990": {
      "model_module": "@jupyter-widgets/base",
      "model_module_version": "1.2.0",
      "model_name": "LayoutModel",
      "state": {
       "overflow_x": "scroll"
      }
     },
     "6a49707c26874f4fa047af4fc8992900": {
      "model_module": "@jupyter-widgets/controls",
      "model_module_version": "1.5.0",
      "model_name": "DescriptionStyleModel",
      "state": {
       "description_width": ""
      }
     },
     "6a9cc36124f94724af6ddc6ce3691c55": {
      "model_module": "@jupyter-widgets/controls",
      "model_module_version": "1.5.0",
      "model_name": "DescriptionStyleModel",
      "state": {
       "description_width": ""
      }
     },
     "6a9f906470cd4084870908dadf768afe": {
      "model_module": "@jupyter-widgets/base",
      "model_module_version": "1.2.0",
      "model_name": "LayoutModel",
      "state": {
       "margin": "0px 5px 0px 0px",
       "width": "32px"
      }
     },
     "6b1d41ed9a3546379814224797b5a95e": {
      "model_module": "@jupyter-widgets/controls",
      "model_module_version": "1.5.0",
      "model_name": "DescriptionStyleModel",
      "state": {
       "description_width": ""
      }
     },
     "6c85c331fb2349eea3eaf60ec82d9556": {
      "model_module": "@jupyter-widgets/controls",
      "model_module_version": "1.5.0",
      "model_name": "ButtonModel",
      "state": {
       "button_style": "primary",
       "description": "Clear",
       "layout": "IPY_MODEL_9cd38fa6ed154a09b24915702bcd536e",
       "style": "IPY_MODEL_3829da4c606d4a0abda310256990c0d4"
      }
     },
     "6cf3711a677849638a61aa7b06a607dd": {
      "model_module": "@jupyter-widgets/controls",
      "model_module_version": "1.5.0",
      "model_name": "HBoxModel",
      "state": {
       "children": [
        "IPY_MODEL_82e3fdedf036449c9118b8b1eac37213",
        "IPY_MODEL_e30355c38b064f88a592f014ab7f134b",
        "IPY_MODEL_337c6c1fc3a34b2bb7bc55128bc5193c",
        "IPY_MODEL_3a84b091f9b347eabcd6f02ef213d6f7",
        "IPY_MODEL_085a3cd98692474da0262a13cf3eeec5",
        "IPY_MODEL_93a77a2fd0934b67a30f02cb4cd502fc"
       ],
       "layout": "IPY_MODEL_8515f7ea89ea45aeb443e42d22b477c8"
      }
     },
     "6d30e9f377824812a1b86d270aa3c816": {
      "model_module": "@jupyter-widgets/controls",
      "model_module_version": "1.5.0",
      "model_name": "DescriptionStyleModel",
      "state": {
       "description_width": ""
      }
     },
     "6e57db492ae44d0a90011bd69368a04b": {
      "model_module": "@jupyter-widgets/base",
      "model_module_version": "1.2.0",
      "model_name": "LayoutModel",
      "state": {
       "width": "190px"
      }
     },
     "70ce823a5bff4dff9a6b982616daef6f": {
      "model_module": "@jupyter-widgets/controls",
      "model_module_version": "1.5.0",
      "model_name": "ButtonModel",
      "state": {
       "icon": "close",
       "layout": "IPY_MODEL_e3d704ebe6784e0ead7a9dd15f7cb46f",
       "style": "IPY_MODEL_e35db7870cb646edba3f49de787c95cf"
      }
     },
     "71fe355b68c140b185ced2b2e363dab4": {
      "model_module": "@jupyter-widgets/base",
      "model_module_version": "1.2.0",
      "model_name": "LayoutModel",
      "state": {
       "width": "190px"
      }
     },
     "726afa60841b4e159dff95962119a3e7": {
      "model_module": "@jupyter-widgets/controls",
      "model_module_version": "1.5.0",
      "model_name": "DescriptionStyleModel",
      "state": {
       "description_width": ""
      }
     },
     "75160b249b714d73824b753a14068713": {
      "model_module": "@jupyter-widgets/base",
      "model_module_version": "1.2.0",
      "model_name": "LayoutModel",
      "state": {
       "width": "70px"
      }
     },
     "7525a144d19c414291df113559f5c67d": {
      "model_module": "@jupyter-widgets/base",
      "model_module_version": "1.2.0",
      "model_name": "LayoutModel",
      "state": {
       "width": "70px"
      }
     },
     "75680373e1a740f584a3ad8da8487246": {
      "model_module": "@jupyter-widgets/controls",
      "model_module_version": "1.5.0",
      "model_name": "HTMLModel",
      "state": {
       "layout": "IPY_MODEL_5e1560fd70ee4b40adf69969cbb1b446",
       "style": "IPY_MODEL_e64cbae71255404b88e42e13daffaa16",
       "value": "<h5>Job ID</h5>"
      }
     },
     "7595fba932ff454fb963f10efe6e6e5d": {
      "model_module": "@jupyter-widgets/controls",
      "model_module_version": "1.5.0",
      "model_name": "DescriptionStyleModel",
      "state": {
       "description_width": ""
      }
     },
     "773a53385df142bb815e358c0fb3a11c": {
      "model_module": "@jupyter-widgets/base",
      "model_module_version": "1.2.0",
      "model_name": "LayoutModel",
      "state": {
       "width": "95px"
      }
     },
     "780cd03765ab4c54b6cf0fd8b5a1b39d": {
      "model_module": "@jupyter-widgets/base",
      "model_module_version": "1.2.0",
      "model_name": "LayoutModel",
      "state": {
       "max_width": "700px",
       "min_width": "700px"
      }
     },
     "79e75363e9fb47c68ac6a0a24e6bc443": {
      "model_module": "@jupyter-widgets/controls",
      "model_module_version": "1.5.0",
      "model_name": "HTMLModel",
      "state": {
       "layout": "IPY_MODEL_4be50844f71b45e893eb86a17b94f1eb",
       "style": "IPY_MODEL_d14f3c2cc7f04caead254674f1faf716",
       "value": "job has successfully run"
      }
     },
     "7a288d823eb74fd7b2090a112246aa99": {
      "model_module": "@jupyter-widgets/controls",
      "model_module_version": "1.5.0",
      "model_name": "DescriptionStyleModel",
      "state": {
       "description_width": ""
      }
     },
     "7e765ce7834a427fabe29721ffdcbe14": {
      "model_module": "@jupyter-widgets/controls",
      "model_module_version": "1.5.0",
      "model_name": "DescriptionStyleModel",
      "state": {
       "description_width": ""
      }
     },
     "7ea6450130f646f5a8d76bb84e787922": {
      "model_module": "@jupyter-widgets/base",
      "model_module_version": "1.2.0",
      "model_name": "LayoutModel",
      "state": {
       "width": "70px"
      }
     },
     "8086debbc6c4473b9a399ec3b0109d52": {
      "model_module": "@jupyter-widgets/controls",
      "model_module_version": "1.5.0",
      "model_name": "DescriptionStyleModel",
      "state": {
       "description_width": ""
      }
     },
     "81a6861f043b416684108703abd57495": {
      "model_module": "@jupyter-widgets/base",
      "model_module_version": "1.2.0",
      "model_name": "LayoutModel",
      "state": {
       "width": "70px"
      }
     },
     "82e3fdedf036449c9118b8b1eac37213": {
      "model_module": "@jupyter-widgets/controls",
      "model_module_version": "1.5.0",
      "model_name": "ButtonModel",
      "state": {
       "icon": "close",
       "layout": "IPY_MODEL_92b969848cf04776864752acb5048578",
       "style": "IPY_MODEL_9f0df065cb83458fb366c2ea97cdc65c"
      }
     },
     "8515f7ea89ea45aeb443e42d22b477c8": {
      "model_module": "@jupyter-widgets/base",
      "model_module_version": "1.2.0",
      "model_name": "LayoutModel",
      "state": {
       "max_width": "700px",
       "min_width": "700px"
      }
     },
     "85a314b6ce2744668e24eae8468226c6": {
      "model_module": "@jupyter-widgets/controls",
      "model_module_version": "1.5.0",
      "model_name": "DescriptionStyleModel",
      "state": {
       "description_width": ""
      }
     },
     "879b51de3a2848899a94742384dd27d3": {
      "model_module": "@jupyter-widgets/controls",
      "model_module_version": "1.5.0",
      "model_name": "DescriptionStyleModel",
      "state": {
       "description_width": ""
      }
     },
     "89a44530adbd4fcdb6a2c3251ac0ef45": {
      "model_module": "@jupyter-widgets/controls",
      "model_module_version": "1.5.0",
      "model_name": "HTMLModel",
      "state": {
       "layout": "IPY_MODEL_4059240be6d944edab216d538b7e020b",
       "style": "IPY_MODEL_20088302003642159bd0b323101b1336",
       "value": "-"
      }
     },
     "8a2c975a88614e8aad054cf88d7a19da": {
      "model_module": "@jupyter-widgets/base",
      "model_module_version": "1.2.0",
      "model_name": "LayoutModel",
      "state": {
       "width": "145px"
      }
     },
     "8e2c5821ff744420a8d0e427a7d88c33": {
      "model_module": "@jupyter-widgets/controls",
      "model_module_version": "1.5.0",
      "model_name": "HTMLModel",
      "state": {
       "layout": "IPY_MODEL_0bbd9be6081d4654848d00289ab41989",
       "style": "IPY_MODEL_0097d4eebaf74317bf4d155528e59e33",
       "value": "ibmq_armonk"
      }
     },
     "8eb0bb47b68b4b4fad197cd468bbc856": {
      "model_module": "@jupyter-widgets/controls",
      "model_module_version": "1.5.0",
      "model_name": "HBoxModel",
      "state": {
       "children": [
        "IPY_MODEL_913145793c2b42da9979cb2c4224328c",
        "IPY_MODEL_998819c233364c7eb4439c6958cc5483",
        "IPY_MODEL_d03d760c907d471f8d6973094e80a624",
        "IPY_MODEL_1c36fc9497044197aa48e2701ba73a57",
        "IPY_MODEL_89a44530adbd4fcdb6a2c3251ac0ef45",
        "IPY_MODEL_d252f15bf2c34ef5857dad7962e80a25"
       ],
       "layout": "IPY_MODEL_e8d75a6b54c5466c997a99f93bfb39ba"
      }
     },
     "8fb6c91936a54263a79292537b33ae0a": {
      "model_module": "@jupyter-widgets/controls",
      "model_module_version": "1.5.0",
      "model_name": "HTMLModel",
      "state": {
       "layout": "IPY_MODEL_a0da6112d8a548b9828541441534cf79",
       "style": "IPY_MODEL_c92eb07373c1491cba12a36571faa777",
       "value": "job has successfully run"
      }
     },
     "90497c07db144f52a2db41590ab88776": {
      "model_module": "@jupyter-widgets/controls",
      "model_module_version": "1.5.0",
      "model_name": "DescriptionStyleModel",
      "state": {
       "description_width": ""
      }
     },
     "9092cf6fd02b45f1915fd78e895396e1": {
      "model_module": "@jupyter-widgets/controls",
      "model_module_version": "1.5.0",
      "model_name": "DescriptionStyleModel",
      "state": {
       "description_width": ""
      }
     },
     "913145793c2b42da9979cb2c4224328c": {
      "model_module": "@jupyter-widgets/controls",
      "model_module_version": "1.5.0",
      "model_name": "ButtonModel",
      "state": {
       "icon": "close",
       "layout": "IPY_MODEL_f7adf27ab7064aa5a24a0a41738a5e23",
       "style": "IPY_MODEL_c79b20c18b9a40c191437ddcfa4dbf4f"
      }
     },
     "924b3f832ad7471c9462d3ea2e225226": {
      "model_module": "@jupyter-widgets/base",
      "model_module_version": "1.2.0",
      "model_name": "LayoutModel",
      "state": {}
     },
     "92b969848cf04776864752acb5048578": {
      "model_module": "@jupyter-widgets/base",
      "model_module_version": "1.2.0",
      "model_name": "LayoutModel",
      "state": {
       "margin": "0px 5px 0px 0px",
       "width": "32px"
      }
     },
     "92dffaaabd5c4fc993782b10d90677a9": {
      "model_module": "@jupyter-widgets/base",
      "model_module_version": "1.2.0",
      "model_name": "LayoutModel",
      "state": {
       "max_width": "700px",
       "min_width": "700px"
      }
     },
     "93a77a2fd0934b67a30f02cb4cd502fc": {
      "model_module": "@jupyter-widgets/controls",
      "model_module_version": "1.5.0",
      "model_name": "HTMLModel",
      "state": {
       "layout": "IPY_MODEL_5de5cf0d50684829a7647c3179381058",
       "style": "IPY_MODEL_d86c08257095499e84ef5ac02059be69",
       "value": "job has successfully run"
      }
     },
     "947f3b68b5484c269ae8817f9dd2d5d6": {
      "model_module": "@jupyter-widgets/base",
      "model_module_version": "1.2.0",
      "model_name": "LayoutModel",
      "state": {
       "width": "70px"
      }
     },
     "95ffbc63cc944e1ea5e7cca9caca701d": {
      "model_module": "@jupyter-widgets/controls",
      "model_module_version": "1.5.0",
      "model_name": "HTMLModel",
      "state": {
       "layout": "IPY_MODEL_773a53385df142bb815e358c0fb3a11c",
       "style": "IPY_MODEL_a4a958b7113f4300a4c5f9c28146d574",
       "value": "<font style='color:#34BC6E'>DONE</font>"
      }
     },
     "9785727d8c80419ea4c140b8eae7473a": {
      "model_module": "@jupyter-widgets/base",
      "model_module_version": "1.2.0",
      "model_name": "LayoutModel",
      "state": {
       "margin": "0px 5px 0px 0px",
       "width": "32px"
      }
     },
     "97a253b590c54d1ab8728387e53b20fe": {
      "model_module": "@jupyter-widgets/base",
      "model_module_version": "1.2.0",
      "model_name": "LayoutModel",
      "state": {
       "width": "95px"
      }
     },
     "998819c233364c7eb4439c6958cc5483": {
      "model_module": "@jupyter-widgets/controls",
      "model_module_version": "1.5.0",
      "model_name": "HTMLModel",
      "state": {
       "layout": "IPY_MODEL_5ea332c9f51f4d83bc78176a443255a5",
       "style": "IPY_MODEL_0638b2abf98e4f2395fb3e5bae88f124",
       "value": "61c390e5255d4e9e33d647b4"
      }
     },
     "99d1a175f0d44e7c8bae5069728b8f4e": {
      "model_module": "@jupyter-widgets/base",
      "model_module_version": "1.2.0",
      "model_name": "LayoutModel",
      "state": {
       "max_width": "700px",
       "min_width": "700px"
      }
     },
     "9a54915cef5545a2a6225aab9aebac4e": {
      "model_module": "@jupyter-widgets/controls",
      "model_module_version": "1.5.0",
      "model_name": "DescriptionStyleModel",
      "state": {
       "description_width": ""
      }
     },
     "9bece05ac1314d02959ca74bf7478092": {
      "model_module": "@jupyter-widgets/controls",
      "model_module_version": "1.5.0",
      "model_name": "ButtonStyleModel",
      "state": {
       "button_color": "white"
      }
     },
     "9cd38fa6ed154a09b24915702bcd536e": {
      "model_module": "@jupyter-widgets/base",
      "model_module_version": "1.2.0",
      "model_name": "LayoutModel",
      "state": {
       "grid_area": "right",
       "padding": "0px 0px 0px 0px",
       "width": "70px"
      }
     },
     "9e117cb78d52486b82e583b546ba6e56": {
      "model_module": "@jupyter-widgets/controls",
      "model_module_version": "1.5.0",
      "model_name": "DescriptionStyleModel",
      "state": {
       "description_width": ""
      }
     },
     "9f0df065cb83458fb366c2ea97cdc65c": {
      "model_module": "@jupyter-widgets/controls",
      "model_module_version": "1.5.0",
      "model_name": "ButtonStyleModel",
      "state": {
       "button_color": "white"
      }
     },
     "a087955c21b947d5aeba69efbd99ff15": {
      "model_module": "@jupyter-widgets/base",
      "model_module_version": "1.2.0",
      "model_name": "LayoutModel",
      "state": {
       "width": "145px"
      }
     },
     "a08d08ae057642dc861637fdebd2411e": {
      "model_module": "@jupyter-widgets/base",
      "model_module_version": "1.2.0",
      "model_name": "LayoutModel",
      "state": {
       "width": "70px"
      }
     },
     "a0920f2053da41ce97ada580f54a98e7": {
      "model_module": "@jupyter-widgets/controls",
      "model_module_version": "1.5.0",
      "model_name": "ButtonStyleModel",
      "state": {
       "button_color": "white"
      }
     },
     "a0da6112d8a548b9828541441534cf79": {
      "model_module": "@jupyter-widgets/base",
      "model_module_version": "1.2.0",
      "model_name": "LayoutModel",
      "state": {
       "overflow_x": "scroll"
      }
     },
     "a1113916fdb64731b8ffb9ba63738263": {
      "model_module": "@jupyter-widgets/base",
      "model_module_version": "1.2.0",
      "model_name": "LayoutModel",
      "state": {
       "width": "95px"
      }
     },
     "a150dd4df8fb41adb20848794a57de98": {
      "model_module": "@jupyter-widgets/controls",
      "model_module_version": "1.5.0",
      "model_name": "HTMLModel",
      "state": {
       "layout": "IPY_MODEL_924b3f832ad7471c9462d3ea2e225226",
       "style": "IPY_MODEL_f9b2ef282e0e434e94f767d51e5b86c5",
       "value": "<h5>Message</h5>"
      }
     },
     "a2cf3182136a487e92200142d11f9d4d": {
      "model_module": "@jupyter-widgets/base",
      "model_module_version": "1.2.0",
      "model_name": "LayoutModel",
      "state": {
       "width": "145px"
      }
     },
     "a4a958b7113f4300a4c5f9c28146d574": {
      "model_module": "@jupyter-widgets/controls",
      "model_module_version": "1.5.0",
      "model_name": "DescriptionStyleModel",
      "state": {
       "description_width": ""
      }
     },
     "a5935133095e4dd388bc29b5465e526a": {
      "model_module": "@jupyter-widgets/base",
      "model_module_version": "1.2.0",
      "model_name": "LayoutModel",
      "state": {
       "width": "95px"
      }
     },
     "a5a9cc382a7e4717891752348790d519": {
      "model_module": "@jupyter-widgets/controls",
      "model_module_version": "1.5.0",
      "model_name": "HTMLModel",
      "state": {
       "layout": "IPY_MODEL_a5935133095e4dd388bc29b5465e526a",
       "style": "IPY_MODEL_879b51de3a2848899a94742384dd27d3",
       "value": "<font style='color:#34BC6E'>DONE</font>"
      }
     },
     "a750785e349b4736b3b10b96f4ec0514": {
      "model_module": "@jupyter-widgets/controls",
      "model_module_version": "1.5.0",
      "model_name": "ButtonStyleModel",
      "state": {
       "button_color": "white"
      }
     },
     "a8932a3a66bb49989a660d454d0b78a5": {
      "model_module": "@jupyter-widgets/controls",
      "model_module_version": "1.5.0",
      "model_name": "DescriptionStyleModel",
      "state": {
       "description_width": ""
      }
     },
     "a9768582946a47ce9b478f0ad14f7e62": {
      "model_module": "@jupyter-widgets/controls",
      "model_module_version": "1.5.0",
      "model_name": "DescriptionStyleModel",
      "state": {
       "description_width": ""
      }
     },
     "a99a0047d7d24a4c8b5ac228d97b751d": {
      "model_module": "@jupyter-widgets/base",
      "model_module_version": "1.2.0",
      "model_name": "LayoutModel",
      "state": {
       "width": "145px"
      }
     },
     "ab6c5e0f7eeb4f5f9ab8dcef37a78b0c": {
      "model_module": "@jupyter-widgets/controls",
      "model_module_version": "1.5.0",
      "model_name": "HTMLModel",
      "state": {
       "layout": "IPY_MODEL_1b8a8d7d86044deb84084d3e5d7c16b6",
       "style": "IPY_MODEL_b7593f3191c44c0f858e7a1ee7524ecc",
       "value": "61c390d2255d4e4b6bd647b3"
      }
     },
     "ac9de30674234748887f191e56b94a3f": {
      "model_module": "@jupyter-widgets/base",
      "model_module_version": "1.2.0",
      "model_name": "LayoutModel",
      "state": {
       "overflow_x": "scroll"
      }
     },
     "ad37c0ca791e45e49494421626a79191": {
      "model_module": "@jupyter-widgets/base",
      "model_module_version": "1.2.0",
      "model_name": "LayoutModel",
      "state": {
       "width": "145px"
      }
     },
     "adaa9f0c8591449499e4eb647c869a15": {
      "model_module": "@jupyter-widgets/base",
      "model_module_version": "1.2.0",
      "model_name": "LayoutModel",
      "state": {
       "width": "145px"
      }
     },
     "adcd8ff1b7354713b76f15854886a8d1": {
      "model_module": "@jupyter-widgets/base",
      "model_module_version": "1.2.0",
      "model_name": "LayoutModel",
      "state": {
       "width": "145px"
      }
     },
     "adfe81a542784611b13e1af6ad511c5f": {
      "model_module": "@jupyter-widgets/base",
      "model_module_version": "1.2.0",
      "model_name": "LayoutModel",
      "state": {
       "width": "70px"
      }
     },
     "ae11b944adef4e5e84a88c301636f5a7": {
      "model_module": "@jupyter-widgets/controls",
      "model_module_version": "1.5.0",
      "model_name": "ButtonStyleModel",
      "state": {
       "button_color": "white"
      }
     },
     "af9c7e6892e048aeabe627f64e7a6d97": {
      "model_module": "@jupyter-widgets/controls",
      "model_module_version": "1.5.0",
      "model_name": "ButtonModel",
      "state": {
       "icon": "close",
       "layout": "IPY_MODEL_38d84cd95cdb4ad294910d2374615f6d",
       "style": "IPY_MODEL_47f4f6ac778b4b1e8f58f3a9d8fa2b56"
      }
     },
     "b39b49734d484a8fa040ad0ceb39e6dc": {
      "model_module": "@jupyter-widgets/controls",
      "model_module_version": "1.5.0",
      "model_name": "HBoxModel",
      "state": {
       "children": [
        "IPY_MODEL_541e8e29e54b415e9ecfef13d914219f",
        "IPY_MODEL_ab6c5e0f7eeb4f5f9ab8dcef37a78b0c",
        "IPY_MODEL_40ed6a06abf24ce1a0c57d8bc892b21c",
        "IPY_MODEL_21ea18012648477e87980ab856c818cf",
        "IPY_MODEL_d3ca1f334c63487fb245e12da6b18867",
        "IPY_MODEL_5be76584be044ce981689445d4e6f7e5"
       ],
       "layout": "IPY_MODEL_99d1a175f0d44e7c8bae5069728b8f4e"
      }
     },
     "b39c9b4208754693a7d0bf2004443bfa": {
      "model_module": "@jupyter-widgets/controls",
      "model_module_version": "1.5.0",
      "model_name": "DescriptionStyleModel",
      "state": {
       "description_width": ""
      }
     },
     "b599bf078d8d4286b8eb7d3ccdf2de64": {
      "model_module": "@jupyter-widgets/controls",
      "model_module_version": "1.5.0",
      "model_name": "HBoxModel",
      "state": {
       "children": [
        "IPY_MODEL_c436280a4cf44127999d940c72f0f15c",
        "IPY_MODEL_fc888d88579d4ca88b3ca6286a609be8",
        "IPY_MODEL_5f5e66f437124750a999a2c175e1e246",
        "IPY_MODEL_95ffbc63cc944e1ea5e7cca9caca701d",
        "IPY_MODEL_cb2ed7604df84d51843509a6c6bea0a9",
        "IPY_MODEL_8fb6c91936a54263a79292537b33ae0a"
       ],
       "layout": "IPY_MODEL_cbe19256eda14a5f896aeeb91e49173c"
      }
     },
     "b7593f3191c44c0f858e7a1ee7524ecc": {
      "model_module": "@jupyter-widgets/controls",
      "model_module_version": "1.5.0",
      "model_name": "DescriptionStyleModel",
      "state": {
       "description_width": ""
      }
     },
     "b90a110c5fa2409a9bcde15cabb705ed": {
      "model_module": "@jupyter-widgets/controls",
      "model_module_version": "1.5.0",
      "model_name": "DescriptionStyleModel",
      "state": {
       "description_width": ""
      }
     },
     "b9720934b659426894b437a810c9aed8": {
      "model_module": "@jupyter-widgets/controls",
      "model_module_version": "1.5.0",
      "model_name": "DescriptionStyleModel",
      "state": {
       "description_width": ""
      }
     },
     "bab6e39ab0f34bc39245ba17b54624f9": {
      "model_module": "@jupyter-widgets/base",
      "model_module_version": "1.2.0",
      "model_name": "LayoutModel",
      "state": {
       "width": "95px"
      }
     },
     "bb1308ac82554925817db7026dd85e23": {
      "model_module": "@jupyter-widgets/controls",
      "model_module_version": "1.5.0",
      "model_name": "HTMLModel",
      "state": {
       "layout": "IPY_MODEL_a99a0047d7d24a4c8b5ac228d97b751d",
       "style": "IPY_MODEL_c06f891f66564eceaf6a2fc84192f22c",
       "value": "ibmq_armonk"
      }
     },
     "be010582980e492fbc96f2281c5d88a6": {
      "model_module": "@jupyter-widgets/controls",
      "model_module_version": "1.5.0",
      "model_name": "HTMLModel",
      "state": {
       "layout": "IPY_MODEL_5b07399b46c44bf48827ca8d4c5aaa61",
       "style": "IPY_MODEL_17148325efa54120a0b5d9a1f21e9c50",
       "value": "<h5>Status</h5>"
      }
     },
     "c04145ae91324f9f9795614c2cd5dfa3": {
      "model_module": "@jupyter-widgets/controls",
      "model_module_version": "1.5.0",
      "model_name": "DescriptionStyleModel",
      "state": {
       "description_width": ""
      }
     },
     "c06f891f66564eceaf6a2fc84192f22c": {
      "model_module": "@jupyter-widgets/controls",
      "model_module_version": "1.5.0",
      "model_name": "DescriptionStyleModel",
      "state": {
       "description_width": ""
      }
     },
     "c08d749b6a2b4c028add04cfec5096b2": {
      "model_module": "@jupyter-widgets/controls",
      "model_module_version": "1.5.0",
      "model_name": "DescriptionStyleModel",
      "state": {
       "description_width": ""
      }
     },
     "c436280a4cf44127999d940c72f0f15c": {
      "model_module": "@jupyter-widgets/controls",
      "model_module_version": "1.5.0",
      "model_name": "ButtonModel",
      "state": {
       "icon": "close",
       "layout": "IPY_MODEL_6a9f906470cd4084870908dadf768afe",
       "style": "IPY_MODEL_0027433904da477eb30d57ae4775f6eb"
      }
     },
     "c5ac4e90880a479c968380605e423981": {
      "model_module": "@jupyter-widgets/base",
      "model_module_version": "1.2.0",
      "model_name": "LayoutModel",
      "state": {
       "width": "95px"
      }
     },
     "c756272f417049a0a591fccda51d045d": {
      "model_module": "@jupyter-widgets/controls",
      "model_module_version": "1.5.0",
      "model_name": "HTMLModel",
      "state": {
       "layout": "IPY_MODEL_8a2c975a88614e8aad054cf88d7a19da",
       "style": "IPY_MODEL_66028c57835749a4adfa83964f8eaccd",
       "value": "ibmq_armonk"
      }
     },
     "c79b20c18b9a40c191437ddcfa4dbf4f": {
      "model_module": "@jupyter-widgets/controls",
      "model_module_version": "1.5.0",
      "model_name": "ButtonStyleModel",
      "state": {
       "button_color": "white"
      }
     },
     "c85a495ac5614597889d13070ef047ea": {
      "model_module": "@jupyter-widgets/base",
      "model_module_version": "1.2.0",
      "model_name": "LayoutModel",
      "state": {
       "max_width": "700px",
       "min_width": "700px"
      }
     },
     "c8e9ff2e9a6f4f298a5088f27245ec4b": {
      "model_module": "@jupyter-widgets/controls",
      "model_module_version": "1.5.0",
      "model_name": "DescriptionStyleModel",
      "state": {
       "description_width": ""
      }
     },
     "c90aaa2941aa467e996765a4c8d47aa0": {
      "model_module": "@jupyter-widgets/base",
      "model_module_version": "1.2.0",
      "model_name": "LayoutModel",
      "state": {
       "max_width": "700px",
       "min_width": "700px"
      }
     },
     "c92eb07373c1491cba12a36571faa777": {
      "model_module": "@jupyter-widgets/controls",
      "model_module_version": "1.5.0",
      "model_name": "DescriptionStyleModel",
      "state": {
       "description_width": ""
      }
     },
     "ca7523e3a6c0423aa3f68f4c7382c4f1": {
      "model_module": "@jupyter-widgets/controls",
      "model_module_version": "1.5.0",
      "model_name": "HTMLModel",
      "state": {
       "layout": "IPY_MODEL_947f3b68b5484c269ae8817f9dd2d5d6",
       "style": "IPY_MODEL_6d30e9f377824812a1b86d270aa3c816",
       "value": "-"
      }
     },
     "cb2ed7604df84d51843509a6c6bea0a9": {
      "model_module": "@jupyter-widgets/controls",
      "model_module_version": "1.5.0",
      "model_name": "HTMLModel",
      "state": {
       "layout": "IPY_MODEL_81a6861f043b416684108703abd57495",
       "style": "IPY_MODEL_6b1d41ed9a3546379814224797b5a95e",
       "value": "-"
      }
     },
     "cbe19256eda14a5f896aeeb91e49173c": {
      "model_module": "@jupyter-widgets/base",
      "model_module_version": "1.2.0",
      "model_name": "LayoutModel",
      "state": {
       "max_width": "700px",
       "min_width": "700px"
      }
     },
     "cdd46fbf302542a8832d755ab926b1f1": {
      "model_module": "@jupyter-widgets/controls",
      "model_module_version": "1.5.0",
      "model_name": "ButtonModel",
      "state": {
       "icon": "close",
       "layout": "IPY_MODEL_3809898b96dc49a1b81580fa21ff1102",
       "style": "IPY_MODEL_e3597b92eebd4bb9900614a290916545"
      }
     },
     "ce302c9e4e40498d968fbbf3f1f8aadf": {
      "model_module": "@jupyter-widgets/base",
      "model_module_version": "1.2.0",
      "model_name": "LayoutModel",
      "state": {
       "width": "145px"
      }
     },
     "d03d760c907d471f8d6973094e80a624": {
      "model_module": "@jupyter-widgets/controls",
      "model_module_version": "1.5.0",
      "model_name": "HTMLModel",
      "state": {
       "layout": "IPY_MODEL_ad37c0ca791e45e49494421626a79191",
       "style": "IPY_MODEL_2533db20f4fd406bbbc6843b30c0ba31",
       "value": "ibmq_armonk"
      }
     },
     "d14f3c2cc7f04caead254674f1faf716": {
      "model_module": "@jupyter-widgets/controls",
      "model_module_version": "1.5.0",
      "model_name": "DescriptionStyleModel",
      "state": {
       "description_width": ""
      }
     },
     "d252f15bf2c34ef5857dad7962e80a25": {
      "model_module": "@jupyter-widgets/controls",
      "model_module_version": "1.5.0",
      "model_name": "HTMLModel",
      "state": {
       "layout": "IPY_MODEL_ac9de30674234748887f191e56b94a3f",
       "style": "IPY_MODEL_726afa60841b4e159dff95962119a3e7",
       "value": "job has successfully run"
      }
     },
     "d259fd5cb2d949ac9d07719d6ff9a00c": {
      "model_module": "@jupyter-widgets/base",
      "model_module_version": "1.2.0",
      "model_name": "LayoutModel",
      "state": {
       "width": "190px"
      }
     },
     "d3ca1f334c63487fb245e12da6b18867": {
      "model_module": "@jupyter-widgets/controls",
      "model_module_version": "1.5.0",
      "model_name": "HTMLModel",
      "state": {
       "layout": "IPY_MODEL_e70f5b18b2d0457f9a0d1d0a29eb447d",
       "style": "IPY_MODEL_df30115290294a55b78e4060cd149c3a",
       "value": "-"
      }
     },
     "d3d143e4d21647e5aa69db6c87b6323b": {
      "model_module": "@jupyter-widgets/controls",
      "model_module_version": "1.5.0",
      "model_name": "HTMLModel",
      "state": {
       "layout": "IPY_MODEL_75160b249b714d73824b753a14068713",
       "style": "IPY_MODEL_7595fba932ff454fb963f10efe6e6e5d",
       "value": "-"
      }
     },
     "d68c2b4caffa4f66907074880e4c18d1": {
      "model_module": "@jupyter-widgets/controls",
      "model_module_version": "1.5.0",
      "model_name": "DescriptionStyleModel",
      "state": {
       "description_width": ""
      }
     },
     "d7008fe4a3874c649d2202c5f3906791": {
      "model_module": "@jupyter-widgets/controls",
      "model_module_version": "1.5.0",
      "model_name": "HTMLModel",
      "state": {
       "layout": "IPY_MODEL_adaa9f0c8591449499e4eb647c869a15",
       "style": "IPY_MODEL_0a8a0f549e66416aaa5901171d5ad7f6",
       "value": "ibmq_armonk"
      }
     },
     "d86c08257095499e84ef5ac02059be69": {
      "model_module": "@jupyter-widgets/controls",
      "model_module_version": "1.5.0",
      "model_name": "DescriptionStyleModel",
      "state": {
       "description_width": ""
      }
     },
     "da58aa6a3ea343118fc09a6c313ce45d": {
      "model_module": "@jupyter-widgets/controls",
      "model_module_version": "1.5.0",
      "model_name": "HTMLModel",
      "state": {
       "layout": "IPY_MODEL_bab6e39ab0f34bc39245ba17b54624f9",
       "style": "IPY_MODEL_b9720934b659426894b437a810c9aed8",
       "value": "<font style='color:#34BC6E'>DONE</font>"
      }
     },
     "df30115290294a55b78e4060cd149c3a": {
      "model_module": "@jupyter-widgets/controls",
      "model_module_version": "1.5.0",
      "model_name": "DescriptionStyleModel",
      "state": {
       "description_width": ""
      }
     },
     "dfaf9e0345264c1a8bf89d280a1e795d": {
      "model_module": "@jupyter-widgets/controls",
      "model_module_version": "1.5.0",
      "model_name": "DescriptionStyleModel",
      "state": {
       "description_width": ""
      }
     },
     "dfe79128dc0242b78766de4cc64be64f": {
      "model_module": "@jupyter-widgets/base",
      "model_module_version": "1.2.0",
      "model_name": "LayoutModel",
      "state": {
       "margin": "0px 5px 0px 0px",
       "width": "32px"
      }
     },
     "e1c95e93229845bfad6a29371fa76ea4": {
      "model_module": "@jupyter-widgets/base",
      "model_module_version": "1.2.0",
      "model_name": "LayoutModel",
      "state": {
       "grid_template_areas": "\n                                       \". . . . right \"\n                                        ",
       "grid_template_columns": "20% 20% 20% 20% 20%",
       "width": "100%"
      }
     },
     "e1d30c509e1044358cbd9b0b9180fd9a": {
      "model_module": "@jupyter-widgets/controls",
      "model_module_version": "1.5.0",
      "model_name": "HBoxModel",
      "state": {
       "children": [
        "IPY_MODEL_19b87fdb9e4a43ce94571a9533c7626c",
        "IPY_MODEL_e600000abb2041ca89032370a8a90bbb",
        "IPY_MODEL_c756272f417049a0a591fccda51d045d",
        "IPY_MODEL_da58aa6a3ea343118fc09a6c313ce45d",
        "IPY_MODEL_4484d289a8cb49fb86d7bf0159dd0e94",
        "IPY_MODEL_79e75363e9fb47c68ac6a0a24e6bc443"
       ],
       "layout": "IPY_MODEL_780cd03765ab4c54b6cf0fd8b5a1b39d"
      }
     },
     "e24a478960c84337a45acd464c252d1b": {
      "model_module": "@jupyter-widgets/base",
      "model_module_version": "1.2.0",
      "model_name": "LayoutModel",
      "state": {
       "width": "190px"
      }
     },
     "e30355c38b064f88a592f014ab7f134b": {
      "model_module": "@jupyter-widgets/controls",
      "model_module_version": "1.5.0",
      "model_name": "HTMLModel",
      "state": {
       "layout": "IPY_MODEL_ec3d79212a0a445995a00eb62fd31508",
       "style": "IPY_MODEL_c04145ae91324f9f9795614c2cd5dfa3",
       "value": "61c39e8e81db3e7fcf84f001"
      }
     },
     "e3597b92eebd4bb9900614a290916545": {
      "model_module": "@jupyter-widgets/controls",
      "model_module_version": "1.5.0",
      "model_name": "ButtonStyleModel",
      "state": {
       "button_color": "white"
      }
     },
     "e35db7870cb646edba3f49de787c95cf": {
      "model_module": "@jupyter-widgets/controls",
      "model_module_version": "1.5.0",
      "model_name": "ButtonStyleModel",
      "state": {
       "button_color": "white"
      }
     },
     "e3d704ebe6784e0ead7a9dd15f7cb46f": {
      "model_module": "@jupyter-widgets/base",
      "model_module_version": "1.2.0",
      "model_name": "LayoutModel",
      "state": {
       "margin": "0px 5px 0px 0px",
       "width": "32px"
      }
     },
     "e490a26ed5084378bd134df768655cbb": {
      "model_module": "@jupyter-widgets/controls",
      "model_module_version": "1.5.0",
      "model_name": "DescriptionStyleModel",
      "state": {
       "description_width": ""
      }
     },
     "e600000abb2041ca89032370a8a90bbb": {
      "model_module": "@jupyter-widgets/controls",
      "model_module_version": "1.5.0",
      "model_name": "HTMLModel",
      "state": {
       "layout": "IPY_MODEL_6e57db492ae44d0a90011bd69368a04b",
       "style": "IPY_MODEL_18eae0bf333f4756ab010f313b81dbc3",
       "value": "61c3960281db3e17a984efce"
      }
     },
     "e64cbae71255404b88e42e13daffaa16": {
      "model_module": "@jupyter-widgets/controls",
      "model_module_version": "1.5.0",
      "model_name": "DescriptionStyleModel",
      "state": {
       "description_width": ""
      }
     },
     "e70f5b18b2d0457f9a0d1d0a29eb447d": {
      "model_module": "@jupyter-widgets/base",
      "model_module_version": "1.2.0",
      "model_name": "LayoutModel",
      "state": {
       "width": "70px"
      }
     },
     "e7d085c646fd47589f42c176a716c673": {
      "model_module": "@jupyter-widgets/controls",
      "model_module_version": "1.5.0",
      "model_name": "HTMLModel",
      "state": {
       "layout": "IPY_MODEL_206690092d6c47268c1a6094efacaa6b",
       "style": "IPY_MODEL_90497c07db144f52a2db41590ab88776",
       "value": "<p style='font-family: IBM Plex Sans, Arial, Helvetica, sans-serif; font-size: 20px; font-weight: medium;'>Circuit Properties</p>"
      }
     },
     "e84e8e3f3c8049c483b348319817d133": {
      "model_module": "@jupyter-widgets/controls",
      "model_module_version": "1.5.0",
      "model_name": "ButtonModel",
      "state": {
       "icon": "close",
       "layout": "IPY_MODEL_9785727d8c80419ea4c140b8eae7473a",
       "style": "IPY_MODEL_ae11b944adef4e5e84a88c301636f5a7"
      }
     },
     "e8d75a6b54c5466c997a99f93bfb39ba": {
      "model_module": "@jupyter-widgets/base",
      "model_module_version": "1.2.0",
      "model_name": "LayoutModel",
      "state": {
       "max_width": "700px",
       "min_width": "700px"
      }
     },
     "ec3d79212a0a445995a00eb62fd31508": {
      "model_module": "@jupyter-widgets/base",
      "model_module_version": "1.2.0",
      "model_name": "LayoutModel",
      "state": {
       "width": "190px"
      }
     },
     "f0eaed9286874975b5291d649e2b7af5": {
      "model_module": "@jupyter-widgets/base",
      "model_module_version": "1.2.0",
      "model_name": "LayoutModel",
      "state": {
       "width": "70px"
      }
     },
     "f2caa0afd287424c89adc623db95ab80": {
      "model_module": "@jupyter-widgets/base",
      "model_module_version": "1.2.0",
      "model_name": "LayoutModel",
      "state": {
       "width": "145px"
      }
     },
     "f3a8922c07bd418680c1686fe23f701d": {
      "model_module": "@jupyter-widgets/controls",
      "model_module_version": "1.5.0",
      "model_name": "HTMLModel",
      "state": {
       "layout": "IPY_MODEL_a087955c21b947d5aeba69efbd99ff15",
       "style": "IPY_MODEL_14a1e3f6df4d44d49d205509b4b47dcb",
       "value": "ibmq_armonk"
      }
     },
     "f4aca025f0cb48bdb606bd8cc80b1947": {
      "model_module": "@jupyter-widgets/base",
      "model_module_version": "1.2.0",
      "model_name": "LayoutModel",
      "state": {
       "width": "95px"
      }
     },
     "f7adf27ab7064aa5a24a0a41738a5e23": {
      "model_module": "@jupyter-widgets/base",
      "model_module_version": "1.2.0",
      "model_name": "LayoutModel",
      "state": {
       "margin": "0px 5px 0px 0px",
       "width": "32px"
      }
     },
     "f8045033c1dd48e2ae306547a124f422": {
      "model_module": "@jupyter-widgets/controls",
      "model_module_version": "1.5.0",
      "model_name": "HTMLModel",
      "state": {
       "layout": "IPY_MODEL_fe60cfff9d0144d6aa576e6779b61679",
       "style": "IPY_MODEL_9e117cb78d52486b82e583b546ba6e56",
       "value": "job has successfully run"
      }
     },
     "f9b2ef282e0e434e94f767d51e5b86c5": {
      "model_module": "@jupyter-widgets/controls",
      "model_module_version": "1.5.0",
      "model_name": "DescriptionStyleModel",
      "state": {
       "description_width": ""
      }
     },
     "fc888d88579d4ca88b3ca6286a609be8": {
      "model_module": "@jupyter-widgets/controls",
      "model_module_version": "1.5.0",
      "model_name": "HTMLModel",
      "state": {
       "layout": "IPY_MODEL_71fe355b68c140b185ced2b2e363dab4",
       "style": "IPY_MODEL_9a54915cef5545a2a6225aab9aebac4e",
       "value": "61c39df0e2b9d15fc29122da"
      }
     },
     "fd86b8ee9bae43459bab746c45285f1e": {
      "model_module": "@jupyter-widgets/base",
      "model_module_version": "1.2.0",
      "model_name": "LayoutModel",
      "state": {
       "margin": "0px 0px 0px 37px",
       "width": "600px"
      }
     },
     "fe60cfff9d0144d6aa576e6779b61679": {
      "model_module": "@jupyter-widgets/base",
      "model_module_version": "1.2.0",
      "model_name": "LayoutModel",
      "state": {
       "overflow_x": "scroll"
      }
     }
    },
    "version_major": 2,
    "version_minor": 0
   }
  }
 },
 "nbformat": 4,
 "nbformat_minor": 5
}
